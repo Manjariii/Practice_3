{
 "cells": [
  {
   "cell_type": "code",
   "execution_count": 199,
   "id": "069a2ee5",
   "metadata": {},
   "outputs": [
    {
     "data": {
      "text/html": [
       "<div>\n",
       "<style scoped>\n",
       "    .dataframe tbody tr th:only-of-type {\n",
       "        vertical-align: middle;\n",
       "    }\n",
       "\n",
       "    .dataframe tbody tr th {\n",
       "        vertical-align: top;\n",
       "    }\n",
       "\n",
       "    .dataframe thead th {\n",
       "        text-align: right;\n",
       "    }\n",
       "</style>\n",
       "<table border=\"1\" class=\"dataframe\">\n",
       "  <thead>\n",
       "    <tr style=\"text-align: right;\">\n",
       "      <th></th>\n",
       "      <th>permalink</th>\n",
       "      <th>name</th>\n",
       "      <th>homepage_url</th>\n",
       "      <th>category_list</th>\n",
       "      <th>status</th>\n",
       "      <th>country_code</th>\n",
       "      <th>state_code</th>\n",
       "      <th>region</th>\n",
       "      <th>city</th>\n",
       "      <th>founded_at</th>\n",
       "    </tr>\n",
       "  </thead>\n",
       "  <tbody>\n",
       "    <tr>\n",
       "      <th>0</th>\n",
       "      <td>/Organization/-Fame</td>\n",
       "      <td>#fame</td>\n",
       "      <td>http://livfame.com</td>\n",
       "      <td>Media</td>\n",
       "      <td>operating</td>\n",
       "      <td>IND</td>\n",
       "      <td>16</td>\n",
       "      <td>Mumbai</td>\n",
       "      <td>Mumbai</td>\n",
       "      <td>NaN</td>\n",
       "    </tr>\n",
       "    <tr>\n",
       "      <th>1</th>\n",
       "      <td>/Organization/-Qounter</td>\n",
       "      <td>:Qounter</td>\n",
       "      <td>http://www.qounter.com</td>\n",
       "      <td>Application Platforms|Real Time|Social Network...</td>\n",
       "      <td>operating</td>\n",
       "      <td>USA</td>\n",
       "      <td>DE</td>\n",
       "      <td>DE - Other</td>\n",
       "      <td>Delaware City</td>\n",
       "      <td>04-09-2014</td>\n",
       "    </tr>\n",
       "    <tr>\n",
       "      <th>2</th>\n",
       "      <td>/Organization/-The-One-Of-Them-Inc-</td>\n",
       "      <td>(THE) ONE of THEM,Inc.</td>\n",
       "      <td>http://oneofthem.jp</td>\n",
       "      <td>Apps|Games|Mobile</td>\n",
       "      <td>operating</td>\n",
       "      <td>NaN</td>\n",
       "      <td>NaN</td>\n",
       "      <td>NaN</td>\n",
       "      <td>NaN</td>\n",
       "      <td>NaN</td>\n",
       "    </tr>\n",
       "    <tr>\n",
       "      <th>3</th>\n",
       "      <td>/Organization/0-6-Com</td>\n",
       "      <td>0-6.com</td>\n",
       "      <td>http://www.0-6.com</td>\n",
       "      <td>Curated Web</td>\n",
       "      <td>operating</td>\n",
       "      <td>CHN</td>\n",
       "      <td>22</td>\n",
       "      <td>Beijing</td>\n",
       "      <td>Beijing</td>\n",
       "      <td>01-01-2007</td>\n",
       "    </tr>\n",
       "    <tr>\n",
       "      <th>4</th>\n",
       "      <td>/Organization/004-Technologies</td>\n",
       "      <td>004 Technologies</td>\n",
       "      <td>http://004gmbh.de/en/004-interact</td>\n",
       "      <td>Software</td>\n",
       "      <td>operating</td>\n",
       "      <td>USA</td>\n",
       "      <td>IL</td>\n",
       "      <td>Springfield, Illinois</td>\n",
       "      <td>Champaign</td>\n",
       "      <td>01-01-2010</td>\n",
       "    </tr>\n",
       "  </tbody>\n",
       "</table>\n",
       "</div>"
      ],
      "text/plain": [
       "                             permalink                    name  \\\n",
       "0                  /Organization/-Fame                   #fame   \n",
       "1               /Organization/-Qounter                :Qounter   \n",
       "2  /Organization/-The-One-Of-Them-Inc-  (THE) ONE of THEM,Inc.   \n",
       "3                /Organization/0-6-Com                 0-6.com   \n",
       "4       /Organization/004-Technologies        004 Technologies   \n",
       "\n",
       "                        homepage_url  \\\n",
       "0                 http://livfame.com   \n",
       "1             http://www.qounter.com   \n",
       "2                http://oneofthem.jp   \n",
       "3                 http://www.0-6.com   \n",
       "4  http://004gmbh.de/en/004-interact   \n",
       "\n",
       "                                       category_list     status country_code  \\\n",
       "0                                              Media  operating          IND   \n",
       "1  Application Platforms|Real Time|Social Network...  operating          USA   \n",
       "2                                  Apps|Games|Mobile  operating          NaN   \n",
       "3                                        Curated Web  operating          CHN   \n",
       "4                                           Software  operating          USA   \n",
       "\n",
       "  state_code                 region           city  founded_at  \n",
       "0         16                 Mumbai         Mumbai         NaN  \n",
       "1         DE             DE - Other  Delaware City  04-09-2014  \n",
       "2        NaN                    NaN            NaN         NaN  \n",
       "3         22                Beijing        Beijing  01-01-2007  \n",
       "4         IL  Springfield, Illinois      Champaign  01-01-2010  "
      ]
     },
     "execution_count": 199,
     "metadata": {},
     "output_type": "execute_result"
    }
   ],
   "source": [
    "# loading libraries and reading the data\n",
    "import numpy \n",
    "import pandas\n",
    "\n",
    "# read data files, companies.csv\n",
    "# using encoding = \"ISO-8859-1\" to avoid pandas encoding error\n",
    "companies=pandas.read_csv(r\"C:\\Users\\Manjari Singh\\Desktop\\Data\\companies.csv\", encoding = 'ISO-8859-1')\n",
    "\n",
    "# handle ascii characters\n",
    "companies.permalink = companies.permalink.str.encode('ISO-8859-1').str.decode('ascii', 'ignore')\n",
    "companies.head()"
   ]
  },
  {
   "cell_type": "code",
   "execution_count": 201,
   "id": "aadaa93a",
   "metadata": {},
   "outputs": [
    {
     "data": {
      "text/html": [
       "<div>\n",
       "<style scoped>\n",
       "    .dataframe tbody tr th:only-of-type {\n",
       "        vertical-align: middle;\n",
       "    }\n",
       "\n",
       "    .dataframe tbody tr th {\n",
       "        vertical-align: top;\n",
       "    }\n",
       "\n",
       "    .dataframe thead th {\n",
       "        text-align: right;\n",
       "    }\n",
       "</style>\n",
       "<table border=\"1\" class=\"dataframe\">\n",
       "  <thead>\n",
       "    <tr style=\"text-align: right;\">\n",
       "      <th></th>\n",
       "      <th>company_permalink</th>\n",
       "      <th>funding_round_permalink</th>\n",
       "      <th>funding_round_type</th>\n",
       "      <th>funding_round_code</th>\n",
       "      <th>funded_at</th>\n",
       "      <th>raised_amount_usd</th>\n",
       "    </tr>\n",
       "  </thead>\n",
       "  <tbody>\n",
       "    <tr>\n",
       "      <th>0</th>\n",
       "      <td>/organization/-fame</td>\n",
       "      <td>/funding-round/9a01d05418af9f794eebff7ace91f638</td>\n",
       "      <td>venture</td>\n",
       "      <td>B</td>\n",
       "      <td>05-01-2015</td>\n",
       "      <td>10000000.0</td>\n",
       "    </tr>\n",
       "    <tr>\n",
       "      <th>1</th>\n",
       "      <td>/ORGANIZATION/-QOUNTER</td>\n",
       "      <td>/funding-round/22dacff496eb7acb2b901dec1dfe5633</td>\n",
       "      <td>venture</td>\n",
       "      <td>A</td>\n",
       "      <td>14-10-2014</td>\n",
       "      <td>NaN</td>\n",
       "    </tr>\n",
       "    <tr>\n",
       "      <th>2</th>\n",
       "      <td>/organization/-qounter</td>\n",
       "      <td>/funding-round/b44fbb94153f6cdef13083530bb48030</td>\n",
       "      <td>seed</td>\n",
       "      <td>NaN</td>\n",
       "      <td>01-03-2014</td>\n",
       "      <td>700000.0</td>\n",
       "    </tr>\n",
       "    <tr>\n",
       "      <th>3</th>\n",
       "      <td>/ORGANIZATION/-THE-ONE-OF-THEM-INC-</td>\n",
       "      <td>/funding-round/650b8f704416801069bb178a1418776b</td>\n",
       "      <td>venture</td>\n",
       "      <td>B</td>\n",
       "      <td>30-01-2014</td>\n",
       "      <td>3406878.0</td>\n",
       "    </tr>\n",
       "    <tr>\n",
       "      <th>4</th>\n",
       "      <td>/organization/0-6-com</td>\n",
       "      <td>/funding-round/5727accaeaa57461bd22a9bdd945382d</td>\n",
       "      <td>venture</td>\n",
       "      <td>A</td>\n",
       "      <td>19-03-2008</td>\n",
       "      <td>2000000.0</td>\n",
       "    </tr>\n",
       "  </tbody>\n",
       "</table>\n",
       "</div>"
      ],
      "text/plain": [
       "                     company_permalink  \\\n",
       "0                  /organization/-fame   \n",
       "1               /ORGANIZATION/-QOUNTER   \n",
       "2               /organization/-qounter   \n",
       "3  /ORGANIZATION/-THE-ONE-OF-THEM-INC-   \n",
       "4                /organization/0-6-com   \n",
       "\n",
       "                           funding_round_permalink funding_round_type  \\\n",
       "0  /funding-round/9a01d05418af9f794eebff7ace91f638            venture   \n",
       "1  /funding-round/22dacff496eb7acb2b901dec1dfe5633            venture   \n",
       "2  /funding-round/b44fbb94153f6cdef13083530bb48030               seed   \n",
       "3  /funding-round/650b8f704416801069bb178a1418776b            venture   \n",
       "4  /funding-round/5727accaeaa57461bd22a9bdd945382d            venture   \n",
       "\n",
       "  funding_round_code   funded_at  raised_amount_usd  \n",
       "0                  B  05-01-2015         10000000.0  \n",
       "1                  A  14-10-2014                NaN  \n",
       "2                NaN  01-03-2014           700000.0  \n",
       "3                  B  30-01-2014          3406878.0  \n",
       "4                  A  19-03-2008          2000000.0  "
      ]
     },
     "execution_count": 201,
     "metadata": {},
     "output_type": "execute_result"
    }
   ],
   "source": [
    "# read read data files, rounds2.csv\n",
    "rounds2 = pandas.read_csv(r\"C:\\Users\\Manjari Singh\\Desktop\\Data\\rounds2.csv\", encoding = \"ISO-8859-1\")\n",
    "rounds2.company_permalink = rounds2.company_permalink.str.encode('ISO-8859-1').str.decode('ascii', 'ignore')\n",
    "rounds2.head()"
   ]
  },
  {
   "cell_type": "code",
   "execution_count": 202,
   "id": "07a85307",
   "metadata": {},
   "outputs": [
    {
     "data": {
      "text/html": [
       "<div>\n",
       "<style scoped>\n",
       "    .dataframe tbody tr th:only-of-type {\n",
       "        vertical-align: middle;\n",
       "    }\n",
       "\n",
       "    .dataframe tbody tr th {\n",
       "        vertical-align: top;\n",
       "    }\n",
       "\n",
       "    .dataframe thead th {\n",
       "        text-align: right;\n",
       "    }\n",
       "</style>\n",
       "<table border=\"1\" class=\"dataframe\">\n",
       "  <thead>\n",
       "    <tr style=\"text-align: right;\">\n",
       "      <th></th>\n",
       "      <th>permalink</th>\n",
       "      <th>name</th>\n",
       "      <th>homepage_url</th>\n",
       "      <th>category_list</th>\n",
       "      <th>status</th>\n",
       "      <th>country_code</th>\n",
       "      <th>state_code</th>\n",
       "      <th>region</th>\n",
       "      <th>city</th>\n",
       "      <th>founded_at</th>\n",
       "    </tr>\n",
       "  </thead>\n",
       "  <tbody>\n",
       "    <tr>\n",
       "      <th>0</th>\n",
       "      <td>/organization/-fame</td>\n",
       "      <td>#fame</td>\n",
       "      <td>http://livfame.com</td>\n",
       "      <td>Media</td>\n",
       "      <td>operating</td>\n",
       "      <td>IND</td>\n",
       "      <td>16</td>\n",
       "      <td>Mumbai</td>\n",
       "      <td>Mumbai</td>\n",
       "      <td>NaN</td>\n",
       "    </tr>\n",
       "    <tr>\n",
       "      <th>1</th>\n",
       "      <td>/organization/-qounter</td>\n",
       "      <td>:Qounter</td>\n",
       "      <td>http://www.qounter.com</td>\n",
       "      <td>Application Platforms|Real Time|Social Network...</td>\n",
       "      <td>operating</td>\n",
       "      <td>USA</td>\n",
       "      <td>DE</td>\n",
       "      <td>DE - Other</td>\n",
       "      <td>Delaware City</td>\n",
       "      <td>04-09-2014</td>\n",
       "    </tr>\n",
       "    <tr>\n",
       "      <th>2</th>\n",
       "      <td>/organization/-the-one-of-them-inc-</td>\n",
       "      <td>(THE) ONE of THEM,Inc.</td>\n",
       "      <td>http://oneofthem.jp</td>\n",
       "      <td>Apps|Games|Mobile</td>\n",
       "      <td>operating</td>\n",
       "      <td>NaN</td>\n",
       "      <td>NaN</td>\n",
       "      <td>NaN</td>\n",
       "      <td>NaN</td>\n",
       "      <td>NaN</td>\n",
       "    </tr>\n",
       "    <tr>\n",
       "      <th>3</th>\n",
       "      <td>/organization/0-6-com</td>\n",
       "      <td>0-6.com</td>\n",
       "      <td>http://www.0-6.com</td>\n",
       "      <td>Curated Web</td>\n",
       "      <td>operating</td>\n",
       "      <td>CHN</td>\n",
       "      <td>22</td>\n",
       "      <td>Beijing</td>\n",
       "      <td>Beijing</td>\n",
       "      <td>01-01-2007</td>\n",
       "    </tr>\n",
       "    <tr>\n",
       "      <th>4</th>\n",
       "      <td>/organization/004-technologies</td>\n",
       "      <td>004 Technologies</td>\n",
       "      <td>http://004gmbh.de/en/004-interact</td>\n",
       "      <td>Software</td>\n",
       "      <td>operating</td>\n",
       "      <td>USA</td>\n",
       "      <td>IL</td>\n",
       "      <td>Springfield, Illinois</td>\n",
       "      <td>Champaign</td>\n",
       "      <td>01-01-2010</td>\n",
       "    </tr>\n",
       "  </tbody>\n",
       "</table>\n",
       "</div>"
      ],
      "text/plain": [
       "                             permalink                    name  \\\n",
       "0                  /organization/-fame                   #fame   \n",
       "1               /organization/-qounter                :Qounter   \n",
       "2  /organization/-the-one-of-them-inc-  (THE) ONE of THEM,Inc.   \n",
       "3                /organization/0-6-com                 0-6.com   \n",
       "4       /organization/004-technologies        004 Technologies   \n",
       "\n",
       "                        homepage_url  \\\n",
       "0                 http://livfame.com   \n",
       "1             http://www.qounter.com   \n",
       "2                http://oneofthem.jp   \n",
       "3                 http://www.0-6.com   \n",
       "4  http://004gmbh.de/en/004-interact   \n",
       "\n",
       "                                       category_list     status country_code  \\\n",
       "0                                              Media  operating          IND   \n",
       "1  Application Platforms|Real Time|Social Network...  operating          USA   \n",
       "2                                  Apps|Games|Mobile  operating          NaN   \n",
       "3                                        Curated Web  operating          CHN   \n",
       "4                                           Software  operating          USA   \n",
       "\n",
       "  state_code                 region           city  founded_at  \n",
       "0         16                 Mumbai         Mumbai         NaN  \n",
       "1         DE             DE - Other  Delaware City  04-09-2014  \n",
       "2        NaN                    NaN            NaN         NaN  \n",
       "3         22                Beijing        Beijing  01-01-2007  \n",
       "4         IL  Springfield, Illinois      Champaign  01-01-2010  "
      ]
     },
     "execution_count": 202,
     "metadata": {},
     "output_type": "execute_result"
    }
   ],
   "source": [
    "# Converting each entries in lowercase and trim whitespaces if any for removing duplicates in companies['permalink'] and rounds2['company_permalink']\n",
    "companies['permalink']=companies['permalink'].apply(lambda x: x.lower())\n",
    "companies['permalink']=companies['permalink'].str.strip()\n",
    "companies.head()\n"
   ]
  },
  {
   "cell_type": "code",
   "execution_count": 203,
   "id": "8da08a7b",
   "metadata": {},
   "outputs": [
    {
     "data": {
      "text/html": [
       "<div>\n",
       "<style scoped>\n",
       "    .dataframe tbody tr th:only-of-type {\n",
       "        vertical-align: middle;\n",
       "    }\n",
       "\n",
       "    .dataframe tbody tr th {\n",
       "        vertical-align: top;\n",
       "    }\n",
       "\n",
       "    .dataframe thead th {\n",
       "        text-align: right;\n",
       "    }\n",
       "</style>\n",
       "<table border=\"1\" class=\"dataframe\">\n",
       "  <thead>\n",
       "    <tr style=\"text-align: right;\">\n",
       "      <th></th>\n",
       "      <th>company_permalink</th>\n",
       "      <th>funding_round_permalink</th>\n",
       "      <th>funding_round_type</th>\n",
       "      <th>funding_round_code</th>\n",
       "      <th>funded_at</th>\n",
       "      <th>raised_amount_usd</th>\n",
       "    </tr>\n",
       "  </thead>\n",
       "  <tbody>\n",
       "    <tr>\n",
       "      <th>0</th>\n",
       "      <td>/organization/-fame</td>\n",
       "      <td>/funding-round/9a01d05418af9f794eebff7ace91f638</td>\n",
       "      <td>venture</td>\n",
       "      <td>B</td>\n",
       "      <td>05-01-2015</td>\n",
       "      <td>10000000.0</td>\n",
       "    </tr>\n",
       "    <tr>\n",
       "      <th>1</th>\n",
       "      <td>/organization/-qounter</td>\n",
       "      <td>/funding-round/22dacff496eb7acb2b901dec1dfe5633</td>\n",
       "      <td>venture</td>\n",
       "      <td>A</td>\n",
       "      <td>14-10-2014</td>\n",
       "      <td>NaN</td>\n",
       "    </tr>\n",
       "    <tr>\n",
       "      <th>2</th>\n",
       "      <td>/organization/-qounter</td>\n",
       "      <td>/funding-round/b44fbb94153f6cdef13083530bb48030</td>\n",
       "      <td>seed</td>\n",
       "      <td>NaN</td>\n",
       "      <td>01-03-2014</td>\n",
       "      <td>700000.0</td>\n",
       "    </tr>\n",
       "    <tr>\n",
       "      <th>3</th>\n",
       "      <td>/organization/-the-one-of-them-inc-</td>\n",
       "      <td>/funding-round/650b8f704416801069bb178a1418776b</td>\n",
       "      <td>venture</td>\n",
       "      <td>B</td>\n",
       "      <td>30-01-2014</td>\n",
       "      <td>3406878.0</td>\n",
       "    </tr>\n",
       "    <tr>\n",
       "      <th>4</th>\n",
       "      <td>/organization/0-6-com</td>\n",
       "      <td>/funding-round/5727accaeaa57461bd22a9bdd945382d</td>\n",
       "      <td>venture</td>\n",
       "      <td>A</td>\n",
       "      <td>19-03-2008</td>\n",
       "      <td>2000000.0</td>\n",
       "    </tr>\n",
       "  </tbody>\n",
       "</table>\n",
       "</div>"
      ],
      "text/plain": [
       "                     company_permalink  \\\n",
       "0                  /organization/-fame   \n",
       "1               /organization/-qounter   \n",
       "2               /organization/-qounter   \n",
       "3  /organization/-the-one-of-them-inc-   \n",
       "4                /organization/0-6-com   \n",
       "\n",
       "                           funding_round_permalink funding_round_type  \\\n",
       "0  /funding-round/9a01d05418af9f794eebff7ace91f638            venture   \n",
       "1  /funding-round/22dacff496eb7acb2b901dec1dfe5633            venture   \n",
       "2  /funding-round/b44fbb94153f6cdef13083530bb48030               seed   \n",
       "3  /funding-round/650b8f704416801069bb178a1418776b            venture   \n",
       "4  /funding-round/5727accaeaa57461bd22a9bdd945382d            venture   \n",
       "\n",
       "  funding_round_code   funded_at  raised_amount_usd  \n",
       "0                  B  05-01-2015         10000000.0  \n",
       "1                  A  14-10-2014                NaN  \n",
       "2                NaN  01-03-2014           700000.0  \n",
       "3                  B  30-01-2014          3406878.0  \n",
       "4                  A  19-03-2008          2000000.0  "
      ]
     },
     "execution_count": 203,
     "metadata": {},
     "output_type": "execute_result"
    }
   ],
   "source": [
    "rounds2['company_permalink']=rounds2['company_permalink'].apply(lambda x: x.lower())\n",
    "rounds2['company_permalink'] =rounds2['company_permalink'].str.strip()\n",
    "rounds2.head()"
   ]
  },
  {
   "cell_type": "code",
   "execution_count": 204,
   "id": "0b6cbfbd",
   "metadata": {},
   "outputs": [
    {
     "name": "stdout",
     "output_type": "stream",
     "text": [
      "66368\n"
     ]
    }
   ],
   "source": [
    "# How many unique companies are present in rounds2?\n",
    "rounds2_uniquecount=rounds2.company_permalink.nunique()\n",
    "print(rounds2_uniquecount)"
   ]
  },
  {
   "cell_type": "code",
   "execution_count": 205,
   "id": "64a08330",
   "metadata": {},
   "outputs": [
    {
     "name": "stdout",
     "output_type": "stream",
     "text": [
      "66368\n"
     ]
    }
   ],
   "source": [
    "#How many unique companies are present in the companies file?\n",
    "companies_uniquecount=companies.permalink.nunique()\n",
    "print(companies_uniquecount)"
   ]
  },
  {
   "cell_type": "code",
   "execution_count": 206,
   "id": "9da9c3ea",
   "metadata": {},
   "outputs": [
    {
     "name": "stdout",
     "output_type": "stream",
     "text": [
      "66368\n"
     ]
    }
   ],
   "source": [
    "# In the companies data frame, which column can be used as the unique key for each company? Write the name of the column.\n",
    "# lets caclulate number of rows in companies\n",
    "print(companies.shape[0])\n",
    "# as the number of rows in companies dataframe == companies_uniquecount , the 'permalink' can be selected for primary key"
   ]
  },
  {
   "cell_type": "code",
   "execution_count": 207,
   "id": "4bf783f6",
   "metadata": {},
   "outputs": [
    {
     "data": {
      "text/html": [
       "<div>\n",
       "<style scoped>\n",
       "    .dataframe tbody tr th:only-of-type {\n",
       "        vertical-align: middle;\n",
       "    }\n",
       "\n",
       "    .dataframe tbody tr th {\n",
       "        vertical-align: top;\n",
       "    }\n",
       "\n",
       "    .dataframe thead th {\n",
       "        text-align: right;\n",
       "    }\n",
       "</style>\n",
       "<table border=\"1\" class=\"dataframe\">\n",
       "  <thead>\n",
       "    <tr style=\"text-align: right;\">\n",
       "      <th></th>\n",
       "      <th>name</th>\n",
       "      <th>homepage_url</th>\n",
       "      <th>category_list</th>\n",
       "      <th>status</th>\n",
       "      <th>country_code</th>\n",
       "      <th>state_code</th>\n",
       "      <th>region</th>\n",
       "      <th>city</th>\n",
       "      <th>founded_at</th>\n",
       "    </tr>\n",
       "    <tr>\n",
       "      <th>permalink</th>\n",
       "      <th></th>\n",
       "      <th></th>\n",
       "      <th></th>\n",
       "      <th></th>\n",
       "      <th></th>\n",
       "      <th></th>\n",
       "      <th></th>\n",
       "      <th></th>\n",
       "      <th></th>\n",
       "    </tr>\n",
       "  </thead>\n",
       "  <tbody>\n",
       "    <tr>\n",
       "      <th>/organization/-fame</th>\n",
       "      <td>#fame</td>\n",
       "      <td>http://livfame.com</td>\n",
       "      <td>Media</td>\n",
       "      <td>operating</td>\n",
       "      <td>IND</td>\n",
       "      <td>16</td>\n",
       "      <td>Mumbai</td>\n",
       "      <td>Mumbai</td>\n",
       "      <td>NaN</td>\n",
       "    </tr>\n",
       "    <tr>\n",
       "      <th>/organization/-qounter</th>\n",
       "      <td>:Qounter</td>\n",
       "      <td>http://www.qounter.com</td>\n",
       "      <td>Application Platforms|Real Time|Social Network...</td>\n",
       "      <td>operating</td>\n",
       "      <td>USA</td>\n",
       "      <td>DE</td>\n",
       "      <td>DE - Other</td>\n",
       "      <td>Delaware City</td>\n",
       "      <td>04-09-2014</td>\n",
       "    </tr>\n",
       "    <tr>\n",
       "      <th>/organization/-the-one-of-them-inc-</th>\n",
       "      <td>(THE) ONE of THEM,Inc.</td>\n",
       "      <td>http://oneofthem.jp</td>\n",
       "      <td>Apps|Games|Mobile</td>\n",
       "      <td>operating</td>\n",
       "      <td>NaN</td>\n",
       "      <td>NaN</td>\n",
       "      <td>NaN</td>\n",
       "      <td>NaN</td>\n",
       "      <td>NaN</td>\n",
       "    </tr>\n",
       "    <tr>\n",
       "      <th>/organization/0-6-com</th>\n",
       "      <td>0-6.com</td>\n",
       "      <td>http://www.0-6.com</td>\n",
       "      <td>Curated Web</td>\n",
       "      <td>operating</td>\n",
       "      <td>CHN</td>\n",
       "      <td>22</td>\n",
       "      <td>Beijing</td>\n",
       "      <td>Beijing</td>\n",
       "      <td>01-01-2007</td>\n",
       "    </tr>\n",
       "    <tr>\n",
       "      <th>/organization/004-technologies</th>\n",
       "      <td>004 Technologies</td>\n",
       "      <td>http://004gmbh.de/en/004-interact</td>\n",
       "      <td>Software</td>\n",
       "      <td>operating</td>\n",
       "      <td>USA</td>\n",
       "      <td>IL</td>\n",
       "      <td>Springfield, Illinois</td>\n",
       "      <td>Champaign</td>\n",
       "      <td>01-01-2010</td>\n",
       "    </tr>\n",
       "  </tbody>\n",
       "</table>\n",
       "</div>"
      ],
      "text/plain": [
       "                                                       name  \\\n",
       "permalink                                                     \n",
       "/organization/-fame                                   #fame   \n",
       "/organization/-qounter                             :Qounter   \n",
       "/organization/-the-one-of-them-inc-  (THE) ONE of THEM,Inc.   \n",
       "/organization/0-6-com                               0-6.com   \n",
       "/organization/004-technologies             004 Technologies   \n",
       "\n",
       "                                                          homepage_url  \\\n",
       "permalink                                                                \n",
       "/organization/-fame                                 http://livfame.com   \n",
       "/organization/-qounter                          http://www.qounter.com   \n",
       "/organization/-the-one-of-them-inc-                http://oneofthem.jp   \n",
       "/organization/0-6-com                               http://www.0-6.com   \n",
       "/organization/004-technologies       http://004gmbh.de/en/004-interact   \n",
       "\n",
       "                                                                         category_list  \\\n",
       "permalink                                                                                \n",
       "/organization/-fame                                                              Media   \n",
       "/organization/-qounter               Application Platforms|Real Time|Social Network...   \n",
       "/organization/-the-one-of-them-inc-                                  Apps|Games|Mobile   \n",
       "/organization/0-6-com                                                      Curated Web   \n",
       "/organization/004-technologies                                                Software   \n",
       "\n",
       "                                        status country_code state_code  \\\n",
       "permalink                                                                \n",
       "/organization/-fame                  operating          IND         16   \n",
       "/organization/-qounter               operating          USA         DE   \n",
       "/organization/-the-one-of-them-inc-  operating          NaN        NaN   \n",
       "/organization/0-6-com                operating          CHN         22   \n",
       "/organization/004-technologies       operating          USA         IL   \n",
       "\n",
       "                                                    region           city  \\\n",
       "permalink                                                                   \n",
       "/organization/-fame                                 Mumbai         Mumbai   \n",
       "/organization/-qounter                          DE - Other  Delaware City   \n",
       "/organization/-the-one-of-them-inc-                    NaN            NaN   \n",
       "/organization/0-6-com                              Beijing        Beijing   \n",
       "/organization/004-technologies       Springfield, Illinois      Champaign   \n",
       "\n",
       "                                     founded_at  \n",
       "permalink                                        \n",
       "/organization/-fame                         NaN  \n",
       "/organization/-qounter               04-09-2014  \n",
       "/organization/-the-one-of-them-inc-         NaN  \n",
       "/organization/0-6-com                01-01-2007  \n",
       "/organization/004-technologies       01-01-2010  "
      ]
     },
     "execution_count": 207,
     "metadata": {},
     "output_type": "execute_result"
    }
   ],
   "source": [
    "# set primary key as 'permalink' for companies dataframe\n",
    "companies.set_index('permalink', inplace=True)\n",
    "companies.head()"
   ]
  },
  {
   "cell_type": "code",
   "execution_count": 208,
   "id": "5dc18a31",
   "metadata": {},
   "outputs": [
    {
     "name": "stdout",
     "output_type": "stream",
     "text": [
      "N\n"
     ]
    }
   ],
   "source": [
    "# Are there any companies in the rounds2 file which are not  present in companies ? Answer Y/N.\n",
    "\n",
    "round2_set= set(rounds2.company_permalink.str.strip().str.lower().unique())\n",
    "\n",
    "# First columns is called index and companies.permalink is index , index is not accessible via df['index column name']\n",
    "companies_set=set(companies.index.str.strip().str.lower().unique())\n",
    "\n",
    "if len(companies_set - round2_set)==0:\n",
    "    print(\"N\")\n",
    "# In both the sets difference is 0 so, there are 0 companies in round2 which are not present in companies.\n"
   ]
  },
  {
   "cell_type": "code",
   "execution_count": 209,
   "id": "88a9d0d3",
   "metadata": {},
   "outputs": [
    {
     "name": "stdout",
     "output_type": "stream",
     "text": [
      "114949\n"
     ]
    }
   ],
   "source": [
    "# Merge the two data frames so that all variables (columns) in the companies frame are added to the rounds2 data frame. \n",
    "# Name the merged frame master_frame. How many observations are present in master_frame?\n",
    "\n",
    "#Merging companies and rounds2\n",
    "master_frame=pandas.merge( companies, rounds2, how=\"inner\", left_on=\"permalink\", right_on=\"company_permalink\")\n",
    "print(master_frame.shape[0])"
   ]
  },
  {
   "cell_type": "markdown",
   "id": "cfe5845b",
   "metadata": {},
   "source": [
    "*Data Cleaning\n",
    "\n",
    "Checking Null Values and Dropping unnecessary columns"
   ]
  },
  {
   "cell_type": "code",
   "execution_count": 210,
   "id": "2505f2d5",
   "metadata": {},
   "outputs": [
    {
     "name": "stdout",
     "output_type": "stream",
     "text": [
      "name                           1\n",
      "homepage_url                6134\n",
      "category_list               3410\n",
      "status                         0\n",
      "country_code                8678\n",
      "state_code                 10946\n",
      "region                     10167\n",
      "city                       10164\n",
      "founded_at                 20521\n",
      "company_permalink              0\n",
      "funding_round_permalink        0\n",
      "funding_round_type             0\n",
      "funding_round_code         83809\n",
      "funded_at                      0\n",
      "raised_amount_usd          19990\n",
      "dtype: int64\n"
     ]
    }
   ],
   "source": [
    "# cleaning the master_frame \n",
    "# Inspecting columnwise null/Nans\n",
    "nullcheck=master_frame.isnull().sum(axis=0)\n",
    "print(nullcheck)"
   ]
  },
  {
   "cell_type": "code",
   "execution_count": 211,
   "id": "c89bc0e3",
   "metadata": {},
   "outputs": [
    {
     "name": "stdout",
     "output_type": "stream",
     "text": [
      "name                        0.00\n",
      "homepage_url                5.34\n",
      "category_list               2.97\n",
      "status                      0.00\n",
      "country_code                7.55\n",
      "state_code                  9.52\n",
      "region                      8.84\n",
      "city                        8.84\n",
      "founded_at                 17.85\n",
      "company_permalink           0.00\n",
      "funding_round_permalink     0.00\n",
      "funding_round_type          0.00\n",
      "funding_round_code         72.91\n",
      "funded_at                   0.00\n",
      "raised_amount_usd          17.39\n",
      "dtype: float64\n"
     ]
    }
   ],
   "source": [
    "# percentage of missing values\n",
    "percentage = round(100*(nullcheck/len(master_frame.company_permalink)),2)\n",
    "print(percentage)"
   ]
  },
  {
   "cell_type": "code",
   "execution_count": 215,
   "id": "48aef2a9",
   "metadata": {},
   "outputs": [
    {
     "data": {
      "text/plain": [
       "count    9.495900e+04\n",
       "mean     1.042687e+07\n",
       "std      1.148212e+08\n",
       "min      0.000000e+00\n",
       "25%      3.225000e+05\n",
       "50%      1.680511e+06\n",
       "75%      7.000000e+06\n",
       "max      2.127194e+10\n",
       "Name: raised_amount_usd, dtype: float64"
      ]
     },
     "execution_count": 215,
     "metadata": {},
     "output_type": "execute_result"
    }
   ],
   "source": [
    "# checking stats for column 'raised_amount_usd'\n",
    "master_frame.raised_amount_usd.describe()"
   ]
  },
  {
   "cell_type": "code",
   "execution_count": 216,
   "id": "9e169d17",
   "metadata": {},
   "outputs": [],
   "source": [
    "# as standard deviations are high for in it and even there is signification gap when compare 25% - 75% \n",
    "#removing the unknows values in the column.\n",
    "master_frame=master_frame[~numpy.isnan(master_frame.raised_amount_usd)]\n",
    "\n",
    "# changing the scale of 'raised_amount_usd' from 1 $ to 1 million $ and rounding off to 3 decimal places\n",
    "master_frame.raised_amount_usd=master_frame.raised_amount_usd.apply(lambda x :round(x/1000000,3) )\n",
    "\n",
    "# rename the column 'raised_amount_usd' to 'raised_amount_usd_in_mil'\n",
    "master_frame=master_frame.rename(columns= {'raised_amount_usd': 'raised_amount_usd_in_mil'})\n",
    "\n"
   ]
  },
  {
   "cell_type": "code",
   "execution_count": 217,
   "id": "dca563e2",
   "metadata": {},
   "outputs": [
    {
     "data": {
      "text/plain": [
       "name                         0.00\n",
       "homepage_url                 4.56\n",
       "category_list                1.10\n",
       "status                       0.00\n",
       "country_code                 6.16\n",
       "state_code                   8.01\n",
       "region                       7.42\n",
       "city                         7.42\n",
       "founded_at                  16.81\n",
       "company_permalink            0.00\n",
       "funding_round_permalink      0.00\n",
       "funding_round_type           0.00\n",
       "funding_round_code          70.34\n",
       "funded_at                    0.00\n",
       "raised_amount_usd_in_mil     0.00\n",
       "dtype: float64"
      ]
     },
     "execution_count": 217,
     "metadata": {},
     "output_type": "execute_result"
    }
   ],
   "source": [
    "# recheck percentage of missing values\n",
    "round(100*(master_frame.isnull().sum()/len(master_frame.company_permalink)),2)"
   ]
  },
  {
   "cell_type": "code",
   "execution_count": 218,
   "id": "0591aa40",
   "metadata": {},
   "outputs": [],
   "source": [
    "# drop the column 'region' as city already has the same data\n",
    "master_frame = master_frame.drop('region', axis=1)\n",
    "#remove the Nans from city\n",
    "master_frame=master_frame[~master_frame.city.isnull()]\n",
    "#remove the Nans from category_list\n",
    "master_frame=master_frame[~master_frame.category_list.isnull()]"
   ]
  },
  {
   "cell_type": "markdown",
   "id": "bbd5930f",
   "metadata": {},
   "source": [
    "#calculating average investment amount for each of the four funding types and rounding it to 2 decimal places"
   ]
  },
  {
   "cell_type": "code",
   "execution_count": 220,
   "id": "1a517a3f",
   "metadata": {},
   "outputs": [
    {
     "data": {
      "text/plain": [
       "raised_amount_usd_in_mil    11.74\n",
       "dtype: float64"
      ]
     },
     "execution_count": 220,
     "metadata": {},
     "output_type": "execute_result"
    }
   ],
   "source": [
    "# venture type \n",
    "round(master_frame.loc[ (master_frame.funding_round_type =='venture'),['raised_amount_usd_in_mil']].mean(),2)"
   ]
  },
  {
   "cell_type": "code",
   "execution_count": 221,
   "id": "e43633e1",
   "metadata": {},
   "outputs": [
    {
     "data": {
      "text/plain": [
       "raised_amount_usd_in_mil    0.97\n",
       "dtype: float64"
      ]
     },
     "execution_count": 221,
     "metadata": {},
     "output_type": "execute_result"
    }
   ],
   "source": [
    "# angel type\n",
    "round(master_frame.loc[ (master_frame.funding_round_type =='angel'),['raised_amount_usd_in_mil']].mean(),2)"
   ]
  },
  {
   "cell_type": "code",
   "execution_count": 222,
   "id": "06944a37",
   "metadata": {},
   "outputs": [
    {
     "data": {
      "text/plain": [
       "raised_amount_usd_in_mil    0.74\n",
       "dtype: float64"
      ]
     },
     "execution_count": 222,
     "metadata": {},
     "output_type": "execute_result"
    }
   ],
   "source": [
    "# seed type\n",
    "round(master_frame.loc[ (master_frame.funding_round_type =='seed'),['raised_amount_usd_in_mil']].mean(),2)"
   ]
  },
  {
   "cell_type": "code",
   "execution_count": 223,
   "id": "2f944625",
   "metadata": {},
   "outputs": [
    {
     "data": {
      "text/plain": [
       "raised_amount_usd_in_mil    70.8\n",
       "dtype: float64"
      ]
     },
     "execution_count": 223,
     "metadata": {},
     "output_type": "execute_result"
    }
   ],
   "source": [
    "# private_equity type\n",
    "round(master_frame.loc[ (master_frame.funding_round_type =='private_equity'),['raised_amount_usd_in_mil']].mean(),2)\n",
    "\n",
    "\n",
    "#  which investment type is the most suitable ? ='venture' as data lies between 5 -15"
   ]
  },
  {
   "cell_type": "markdown",
   "id": "9afe12d7",
   "metadata": {},
   "source": [
    "# Checkpoint 3: Country Analysis"
   ]
  },
  {
   "cell_type": "code",
   "execution_count": 224,
   "id": "bf4ea72f",
   "metadata": {},
   "outputs": [
    {
     "data": {
      "text/html": [
       "<div>\n",
       "<style scoped>\n",
       "    .dataframe tbody tr th:only-of-type {\n",
       "        vertical-align: middle;\n",
       "    }\n",
       "\n",
       "    .dataframe tbody tr th {\n",
       "        vertical-align: top;\n",
       "    }\n",
       "\n",
       "    .dataframe thead th {\n",
       "        text-align: right;\n",
       "    }\n",
       "</style>\n",
       "<table border=\"1\" class=\"dataframe\">\n",
       "  <thead>\n",
       "    <tr style=\"text-align: right;\">\n",
       "      <th></th>\n",
       "      <th>country_code</th>\n",
       "      <th>raised_amount_usd_in_mil</th>\n",
       "    </tr>\n",
       "  </thead>\n",
       "  <tbody>\n",
       "    <tr>\n",
       "      <th>92</th>\n",
       "      <td>USA</td>\n",
       "      <td>419443.238</td>\n",
       "    </tr>\n",
       "    <tr>\n",
       "      <th>14</th>\n",
       "      <td>CHN</td>\n",
       "      <td>36950.872</td>\n",
       "    </tr>\n",
       "    <tr>\n",
       "      <th>28</th>\n",
       "      <td>GBR</td>\n",
       "      <td>19235.535</td>\n",
       "    </tr>\n",
       "    <tr>\n",
       "      <th>38</th>\n",
       "      <td>IND</td>\n",
       "      <td>14167.809</td>\n",
       "    </tr>\n",
       "    <tr>\n",
       "      <th>11</th>\n",
       "      <td>CAN</td>\n",
       "      <td>9435.477</td>\n",
       "    </tr>\n",
       "    <tr>\n",
       "      <th>27</th>\n",
       "      <td>FRA</td>\n",
       "      <td>6825.018</td>\n",
       "    </tr>\n",
       "    <tr>\n",
       "      <th>41</th>\n",
       "      <td>ISR</td>\n",
       "      <td>6551.761</td>\n",
       "    </tr>\n",
       "    <tr>\n",
       "      <th>20</th>\n",
       "      <td>DEU</td>\n",
       "      <td>6180.782</td>\n",
       "    </tr>\n",
       "    <tr>\n",
       "      <th>44</th>\n",
       "      <td>JPN</td>\n",
       "      <td>3018.150</td>\n",
       "    </tr>\n",
       "  </tbody>\n",
       "</table>\n",
       "</div>"
      ],
      "text/plain": [
       "   country_code  raised_amount_usd_in_mil\n",
       "92          USA                419443.238\n",
       "14          CHN                 36950.872\n",
       "28          GBR                 19235.535\n",
       "38          IND                 14167.809\n",
       "11          CAN                  9435.477\n",
       "27          FRA                  6825.018\n",
       "41          ISR                  6551.761\n",
       "20          DEU                  6180.782\n",
       "44          JPN                  3018.150"
      ]
     },
     "execution_count": 224,
     "metadata": {},
     "output_type": "execute_result"
    }
   ],
   "source": [
    "\n",
    "# top nine countries which have received the highest total funding\n",
    "master_frame_byVenture=master_frame.loc[(master_frame.funding_round_type=='venture')]\n",
    "venture_byCountry=master_frame_byVenture.groupby('country_code')\n",
    "venture_totalfund_byCountry=venture_byCountry['raised_amount_usd_in_mil'].sum().sort_values(ascending=False)\n",
    "\n",
    "# data frame named top9 with the top nine countries\n",
    "# this gives series --> top9=venture_totalfund_byCountry.nlargest(9)\n",
    "\n",
    "# this gives dataframe\n",
    "top9=master_frame_byVenture.groupby('country_code',as_index=False)['raised_amount_usd_in_mil'].sum().sort_values(by=['raised_amount_usd_in_mil'],ascending=False).head(9)\n",
    "top9\n",
    "# Identify the top three English-speaking countries in the data frame top9. USA , GBR,IND"
   ]
  },
  {
   "cell_type": "markdown",
   "id": "dd9adb8e",
   "metadata": {},
   "source": [
    "# Checkpoint 4: Sector Analysis 1"
   ]
  },
  {
   "cell_type": "code",
   "execution_count": 225,
   "id": "a8747e1d",
   "metadata": {},
   "outputs": [
    {
     "data": {
      "text/plain": [
       "category_list                              1\n",
       "Automotive & Sports                        0\n",
       "Blanks                                     0\n",
       "Cleantech / Semiconductors                 0\n",
       "Entertainment                              0\n",
       "Health                                     0\n",
       "Manufacturing                              0\n",
       "News, Search and Messaging                 0\n",
       "Others                                     0\n",
       "Social, Finance, Analytics, Advertising    0\n",
       "dtype: int64"
      ]
     },
     "execution_count": 225,
     "metadata": {},
     "output_type": "execute_result"
    }
   ],
   "source": [
    "# read mapping.csv and create dataframe\n",
    "mapping=pandas.read_csv(r\"C:\\Users\\Manjari Singh\\Desktop\\Data\\mapping.csv\", encoding = \"ISO-8859-1\")\n",
    "# check how many values null/Nans per column\n",
    "mapping.isnull().sum()"
   ]
  },
  {
   "cell_type": "code",
   "execution_count": 226,
   "id": "1c1478af",
   "metadata": {},
   "outputs": [],
   "source": [
    "# clean the mapping dataframe , remove nan from category list\n",
    "mapping=mapping[~mapping.category_list.isnull()]\n",
    "# drop the 'blanks' column.\n",
    "mapping=mapping.drop('Blanks', axis=1)"
   ]
  },
  {
   "cell_type": "code",
   "execution_count": 227,
   "id": "32d7c411",
   "metadata": {},
   "outputs": [
    {
     "data": {
      "text/plain": [
       "1                  3d\n",
       "2         3d printing\n",
       "3       3d technology\n",
       "4          accounting\n",
       "5    active lifestyle\n",
       "Name: category_list, dtype: object"
      ]
     },
     "execution_count": 227,
     "metadata": {},
     "output_type": "execute_result"
    }
   ],
   "source": [
    "# create a method to clean/refine the values of category like :\n",
    "# 0vigation --> Navigation, A0lytics --> Analytics, Enterprise 2.0 --> Enterprise 2.0\n",
    "\n",
    "def refineCategoryList(category_list):\n",
    "    if '0' in category_list:\n",
    "        if category_list.startswith('0'):\n",
    "             return 'Na'+category_list[1:] # handle cases like: 0vigation --> Navigation\n",
    "        elif category_list.endswith('0'):\n",
    "            return category_list        # handle cases like: Enterprise 2.0 --> Enterprise 2.0\n",
    "        else:\n",
    "            return category_list[:category_list.find('0')]+'na'+category_list[category_list.find('0')+ 1 :] # handle : A0lytics --> Analytics\n",
    "    else:\n",
    "        return category_list\n",
    "\n",
    "# clean/refine the data of category list\n",
    "mapping.category_list=mapping.category_list.apply(refineCategoryList) \n",
    "#pd.set_option('display.max_rows',1000)\n",
    "# convert category_lsit to lower case\n",
    "mapping.category_list=mapping.category_list.str.lower()\n",
    "mapping.category_list.head()"
   ]
  },
  {
   "cell_type": "code",
   "execution_count": 228,
   "id": "77fb37e3",
   "metadata": {},
   "outputs": [],
   "source": [
    "# changing the df from wide to long format \n",
    "mapping_transform=pandas.melt(mapping, id_vars='category_list', var_name='main_sector')\n",
    "# selecting the rows which has the values=1 and putting into mapping_transform\n",
    "mapping_transform=mapping_transform.loc[(mapping_transform.value==1)]\n",
    "# drop the column 'value's as now there is no need to it\n",
    "mapping_transform=mapping_transform.drop('value',axis=1)\n",
    "# rename the column 'category_list' to 'primary_sector'\n",
    "mapping_transform=mapping_transform.rename(columns= {'category_list':'primary_sector'})"
   ]
  },
  {
   "cell_type": "code",
   "execution_count": 229,
   "id": "2d7dfb7c",
   "metadata": {},
   "outputs": [
    {
     "data": {
      "text/html": [
       "<div>\n",
       "<style scoped>\n",
       "    .dataframe tbody tr th:only-of-type {\n",
       "        vertical-align: middle;\n",
       "    }\n",
       "\n",
       "    .dataframe tbody tr th {\n",
       "        vertical-align: top;\n",
       "    }\n",
       "\n",
       "    .dataframe thead th {\n",
       "        text-align: right;\n",
       "    }\n",
       "</style>\n",
       "<table border=\"1\" class=\"dataframe\">\n",
       "  <thead>\n",
       "    <tr style=\"text-align: right;\">\n",
       "      <th></th>\n",
       "      <th>name</th>\n",
       "      <th>homepage_url</th>\n",
       "      <th>category_list</th>\n",
       "      <th>status</th>\n",
       "      <th>country_code</th>\n",
       "      <th>state_code</th>\n",
       "      <th>city</th>\n",
       "      <th>founded_at</th>\n",
       "      <th>company_permalink</th>\n",
       "      <th>funding_round_permalink</th>\n",
       "      <th>funding_round_type</th>\n",
       "      <th>funding_round_code</th>\n",
       "      <th>funded_at</th>\n",
       "      <th>raised_amount_usd_in_mil</th>\n",
       "      <th>primary_sector</th>\n",
       "    </tr>\n",
       "  </thead>\n",
       "  <tbody>\n",
       "    <tr>\n",
       "      <th>0</th>\n",
       "      <td>#fame</td>\n",
       "      <td>http://livfame.com</td>\n",
       "      <td>Media</td>\n",
       "      <td>operating</td>\n",
       "      <td>IND</td>\n",
       "      <td>16</td>\n",
       "      <td>Mumbai</td>\n",
       "      <td>NaN</td>\n",
       "      <td>/organization/-fame</td>\n",
       "      <td>/funding-round/9a01d05418af9f794eebff7ace91f638</td>\n",
       "      <td>venture</td>\n",
       "      <td>B</td>\n",
       "      <td>05-01-2015</td>\n",
       "      <td>10.000</td>\n",
       "      <td>media</td>\n",
       "    </tr>\n",
       "    <tr>\n",
       "      <th>2</th>\n",
       "      <td>:Qounter</td>\n",
       "      <td>http://www.qounter.com</td>\n",
       "      <td>Application Platforms|Real Time|Social Network...</td>\n",
       "      <td>operating</td>\n",
       "      <td>USA</td>\n",
       "      <td>DE</td>\n",
       "      <td>Delaware City</td>\n",
       "      <td>04-09-2014</td>\n",
       "      <td>/organization/-qounter</td>\n",
       "      <td>/funding-round/b44fbb94153f6cdef13083530bb48030</td>\n",
       "      <td>seed</td>\n",
       "      <td>NaN</td>\n",
       "      <td>01-03-2014</td>\n",
       "      <td>0.700</td>\n",
       "      <td>application platforms</td>\n",
       "    </tr>\n",
       "    <tr>\n",
       "      <th>4</th>\n",
       "      <td>0-6.com</td>\n",
       "      <td>http://www.0-6.com</td>\n",
       "      <td>Curated Web</td>\n",
       "      <td>operating</td>\n",
       "      <td>CHN</td>\n",
       "      <td>22</td>\n",
       "      <td>Beijing</td>\n",
       "      <td>01-01-2007</td>\n",
       "      <td>/organization/0-6-com</td>\n",
       "      <td>/funding-round/5727accaeaa57461bd22a9bdd945382d</td>\n",
       "      <td>venture</td>\n",
       "      <td>A</td>\n",
       "      <td>19-03-2008</td>\n",
       "      <td>2.000</td>\n",
       "      <td>curated web</td>\n",
       "    </tr>\n",
       "    <tr>\n",
       "      <th>6</th>\n",
       "      <td>01Games Technology</td>\n",
       "      <td>http://www.01games.hk/</td>\n",
       "      <td>Games</td>\n",
       "      <td>operating</td>\n",
       "      <td>HKG</td>\n",
       "      <td>NaN</td>\n",
       "      <td>Hong Kong</td>\n",
       "      <td>NaN</td>\n",
       "      <td>/organization/01games-technology</td>\n",
       "      <td>/funding-round/7d53696f2b4f607a2f2a8cbb83d01839</td>\n",
       "      <td>undisclosed</td>\n",
       "      <td>NaN</td>\n",
       "      <td>01-07-2014</td>\n",
       "      <td>0.041</td>\n",
       "      <td>games</td>\n",
       "    </tr>\n",
       "    <tr>\n",
       "      <th>7</th>\n",
       "      <td>Ondine Biomedical Inc.</td>\n",
       "      <td>http://ondinebio.com</td>\n",
       "      <td>Biotechnology</td>\n",
       "      <td>operating</td>\n",
       "      <td>CAN</td>\n",
       "      <td>BC</td>\n",
       "      <td>Vancouver</td>\n",
       "      <td>01-01-1997</td>\n",
       "      <td>/organization/0ndine-biomedical-inc</td>\n",
       "      <td>/funding-round/2b9d3ac293d5cdccbecff5c8cb0f327d</td>\n",
       "      <td>seed</td>\n",
       "      <td>NaN</td>\n",
       "      <td>11-09-2009</td>\n",
       "      <td>0.043</td>\n",
       "      <td>biotechnology</td>\n",
       "    </tr>\n",
       "  </tbody>\n",
       "</table>\n",
       "</div>"
      ],
      "text/plain": [
       "                     name            homepage_url  \\\n",
       "0                   #fame      http://livfame.com   \n",
       "2                :Qounter  http://www.qounter.com   \n",
       "4                 0-6.com      http://www.0-6.com   \n",
       "6      01Games Technology  http://www.01games.hk/   \n",
       "7  Ondine Biomedical Inc.    http://ondinebio.com   \n",
       "\n",
       "                                       category_list     status country_code  \\\n",
       "0                                              Media  operating          IND   \n",
       "2  Application Platforms|Real Time|Social Network...  operating          USA   \n",
       "4                                        Curated Web  operating          CHN   \n",
       "6                                              Games  operating          HKG   \n",
       "7                                      Biotechnology  operating          CAN   \n",
       "\n",
       "  state_code           city  founded_at                    company_permalink  \\\n",
       "0         16         Mumbai         NaN                  /organization/-fame   \n",
       "2         DE  Delaware City  04-09-2014               /organization/-qounter   \n",
       "4         22        Beijing  01-01-2007                /organization/0-6-com   \n",
       "6        NaN      Hong Kong         NaN     /organization/01games-technology   \n",
       "7         BC      Vancouver  01-01-1997  /organization/0ndine-biomedical-inc   \n",
       "\n",
       "                           funding_round_permalink funding_round_type  \\\n",
       "0  /funding-round/9a01d05418af9f794eebff7ace91f638            venture   \n",
       "2  /funding-round/b44fbb94153f6cdef13083530bb48030               seed   \n",
       "4  /funding-round/5727accaeaa57461bd22a9bdd945382d            venture   \n",
       "6  /funding-round/7d53696f2b4f607a2f2a8cbb83d01839        undisclosed   \n",
       "7  /funding-round/2b9d3ac293d5cdccbecff5c8cb0f327d               seed   \n",
       "\n",
       "  funding_round_code   funded_at  raised_amount_usd_in_mil  \\\n",
       "0                  B  05-01-2015                    10.000   \n",
       "2                NaN  01-03-2014                     0.700   \n",
       "4                  A  19-03-2008                     2.000   \n",
       "6                NaN  01-07-2014                     0.041   \n",
       "7                NaN  11-09-2009                     0.043   \n",
       "\n",
       "          primary_sector  \n",
       "0                  media  \n",
       "2  application platforms  \n",
       "4            curated web  \n",
       "6                  games  \n",
       "7          biotechnology  "
      ]
     },
     "execution_count": 229,
     "metadata": {},
     "output_type": "execute_result"
    }
   ],
   "source": [
    "# method to extract primary category from category list separated by a pipe\n",
    "def extractPrimarySector(category):\n",
    "    if '|' in category:\n",
    "        return category[:category.find('|')]\n",
    "    else:\n",
    "        return category\n",
    "\n",
    "\n",
    "# extract primary sector of each category list from  master_frame.category_list\n",
    "master_frame['primary_sector']=master_frame.category_list.apply(extractPrimarySector).str.lower()\n",
    "master_frame.head()"
   ]
  },
  {
   "cell_type": "code",
   "execution_count": 231,
   "id": "2d6bb622",
   "metadata": {},
   "outputs": [
    {
     "data": {
      "text/html": [
       "<div>\n",
       "<style scoped>\n",
       "    .dataframe tbody tr th:only-of-type {\n",
       "        vertical-align: middle;\n",
       "    }\n",
       "\n",
       "    .dataframe tbody tr th {\n",
       "        vertical-align: top;\n",
       "    }\n",
       "\n",
       "    .dataframe thead th {\n",
       "        text-align: right;\n",
       "    }\n",
       "</style>\n",
       "<table border=\"1\" class=\"dataframe\">\n",
       "  <thead>\n",
       "    <tr style=\"text-align: right;\">\n",
       "      <th></th>\n",
       "      <th>name</th>\n",
       "      <th>homepage_url</th>\n",
       "      <th>category_list</th>\n",
       "      <th>status</th>\n",
       "      <th>country_code</th>\n",
       "      <th>state_code</th>\n",
       "      <th>city</th>\n",
       "      <th>founded_at</th>\n",
       "      <th>company_permalink</th>\n",
       "      <th>funding_round_permalink</th>\n",
       "      <th>funding_round_type</th>\n",
       "      <th>funding_round_code</th>\n",
       "      <th>funded_at</th>\n",
       "      <th>raised_amount_usd_in_mil</th>\n",
       "      <th>primary_sector</th>\n",
       "      <th>main_sector</th>\n",
       "    </tr>\n",
       "  </thead>\n",
       "  <tbody>\n",
       "    <tr>\n",
       "      <th>0</th>\n",
       "      <td>#fame</td>\n",
       "      <td>http://livfame.com</td>\n",
       "      <td>Media</td>\n",
       "      <td>operating</td>\n",
       "      <td>IND</td>\n",
       "      <td>16</td>\n",
       "      <td>Mumbai</td>\n",
       "      <td>NaN</td>\n",
       "      <td>/organization/-fame</td>\n",
       "      <td>/funding-round/9a01d05418af9f794eebff7ace91f638</td>\n",
       "      <td>venture</td>\n",
       "      <td>B</td>\n",
       "      <td>05-01-2015</td>\n",
       "      <td>10.00</td>\n",
       "      <td>media</td>\n",
       "      <td>Entertainment</td>\n",
       "    </tr>\n",
       "    <tr>\n",
       "      <th>1</th>\n",
       "      <td>90min</td>\n",
       "      <td>http://www.90min.com</td>\n",
       "      <td>Media|News|Publishing|Soccer|Sports</td>\n",
       "      <td>operating</td>\n",
       "      <td>GBR</td>\n",
       "      <td>H9</td>\n",
       "      <td>London</td>\n",
       "      <td>01-01-2011</td>\n",
       "      <td>/organization/90min</td>\n",
       "      <td>/funding-round/21a2cbf6f2fb2a1c2a61e04bf930dfe6</td>\n",
       "      <td>venture</td>\n",
       "      <td>NaN</td>\n",
       "      <td>06-10-2015</td>\n",
       "      <td>15.00</td>\n",
       "      <td>media</td>\n",
       "      <td>Entertainment</td>\n",
       "    </tr>\n",
       "    <tr>\n",
       "      <th>2</th>\n",
       "      <td>90min</td>\n",
       "      <td>http://www.90min.com</td>\n",
       "      <td>Media|News|Publishing|Soccer|Sports</td>\n",
       "      <td>operating</td>\n",
       "      <td>GBR</td>\n",
       "      <td>H9</td>\n",
       "      <td>London</td>\n",
       "      <td>01-01-2011</td>\n",
       "      <td>/organization/90min</td>\n",
       "      <td>/funding-round/bd626ed022f5c66574b1afe234f3c90d</td>\n",
       "      <td>venture</td>\n",
       "      <td>NaN</td>\n",
       "      <td>07-05-2013</td>\n",
       "      <td>5.80</td>\n",
       "      <td>media</td>\n",
       "      <td>Entertainment</td>\n",
       "    </tr>\n",
       "    <tr>\n",
       "      <th>3</th>\n",
       "      <td>90min</td>\n",
       "      <td>http://www.90min.com</td>\n",
       "      <td>Media|News|Publishing|Soccer|Sports</td>\n",
       "      <td>operating</td>\n",
       "      <td>GBR</td>\n",
       "      <td>H9</td>\n",
       "      <td>London</td>\n",
       "      <td>01-01-2011</td>\n",
       "      <td>/organization/90min</td>\n",
       "      <td>/funding-round/fd4b15e8c97ee2ffc0acccdbe1a98810</td>\n",
       "      <td>venture</td>\n",
       "      <td>NaN</td>\n",
       "      <td>26-03-2014</td>\n",
       "      <td>18.00</td>\n",
       "      <td>media</td>\n",
       "      <td>Entertainment</td>\n",
       "    </tr>\n",
       "    <tr>\n",
       "      <th>4</th>\n",
       "      <td>A Dance for Me</td>\n",
       "      <td>http://www.adanceforme.com/</td>\n",
       "      <td>Media|News|Photo Sharing|Video</td>\n",
       "      <td>operating</td>\n",
       "      <td>USA</td>\n",
       "      <td>MT</td>\n",
       "      <td>Missoula</td>\n",
       "      <td>31-07-2011</td>\n",
       "      <td>/organization/a-dance-for-me</td>\n",
       "      <td>/funding-round/9ab9dbd17bf010c79d8415b2c22be6fa</td>\n",
       "      <td>equity_crowdfunding</td>\n",
       "      <td>NaN</td>\n",
       "      <td>26-03-2014</td>\n",
       "      <td>1.09</td>\n",
       "      <td>media</td>\n",
       "      <td>Entertainment</td>\n",
       "    </tr>\n",
       "  </tbody>\n",
       "</table>\n",
       "</div>"
      ],
      "text/plain": [
       "             name                 homepage_url  \\\n",
       "0           #fame           http://livfame.com   \n",
       "1           90min         http://www.90min.com   \n",
       "2           90min         http://www.90min.com   \n",
       "3           90min         http://www.90min.com   \n",
       "4  A Dance for Me  http://www.adanceforme.com/   \n",
       "\n",
       "                         category_list     status country_code state_code  \\\n",
       "0                                Media  operating          IND         16   \n",
       "1  Media|News|Publishing|Soccer|Sports  operating          GBR         H9   \n",
       "2  Media|News|Publishing|Soccer|Sports  operating          GBR         H9   \n",
       "3  Media|News|Publishing|Soccer|Sports  operating          GBR         H9   \n",
       "4       Media|News|Photo Sharing|Video  operating          USA         MT   \n",
       "\n",
       "       city  founded_at             company_permalink  \\\n",
       "0    Mumbai         NaN           /organization/-fame   \n",
       "1    London  01-01-2011           /organization/90min   \n",
       "2    London  01-01-2011           /organization/90min   \n",
       "3    London  01-01-2011           /organization/90min   \n",
       "4  Missoula  31-07-2011  /organization/a-dance-for-me   \n",
       "\n",
       "                           funding_round_permalink   funding_round_type  \\\n",
       "0  /funding-round/9a01d05418af9f794eebff7ace91f638              venture   \n",
       "1  /funding-round/21a2cbf6f2fb2a1c2a61e04bf930dfe6              venture   \n",
       "2  /funding-round/bd626ed022f5c66574b1afe234f3c90d              venture   \n",
       "3  /funding-round/fd4b15e8c97ee2ffc0acccdbe1a98810              venture   \n",
       "4  /funding-round/9ab9dbd17bf010c79d8415b2c22be6fa  equity_crowdfunding   \n",
       "\n",
       "  funding_round_code   funded_at  raised_amount_usd_in_mil primary_sector  \\\n",
       "0                  B  05-01-2015                     10.00          media   \n",
       "1                NaN  06-10-2015                     15.00          media   \n",
       "2                NaN  07-05-2013                      5.80          media   \n",
       "3                NaN  26-03-2014                     18.00          media   \n",
       "4                NaN  26-03-2014                      1.09          media   \n",
       "\n",
       "     main_sector  \n",
       "0  Entertainment  \n",
       "1  Entertainment  \n",
       "2  Entertainment  \n",
       "3  Entertainment  \n",
       "4  Entertainment  "
      ]
     },
     "execution_count": 231,
     "metadata": {},
     "output_type": "execute_result"
    }
   ],
   "source": [
    "# merge two dataframe to map primary sector to main sector in new data farme\n",
    "master_frame_with_mapping=pandas.merge(master_frame, mapping_transform, how='inner', on='primary_sector')\n",
    "\n",
    "master_frame_with_mapping.head()"
   ]
  },
  {
   "cell_type": "markdown",
   "id": "aafb72fe",
   "metadata": {},
   "source": [
    "# Checkpoint 5: Sector Analysis 2"
   ]
  },
  {
   "cell_type": "code",
   "execution_count": 232,
   "id": "e28f2ba7",
   "metadata": {},
   "outputs": [
    {
     "data": {
      "text/plain": [
       "(13003, 16)"
      ]
     },
     "execution_count": 232,
     "metadata": {},
     "output_type": "execute_result"
    }
   ],
   "source": [
    "#  dataframe conatining investments range 5-15 M USD & funding type ='Venture' and country in (USA,GBR,IND)\n",
    "country_eng=['USA','GBR','IND']\n",
    "\n",
    "master_frame_5_15=master_frame_with_mapping[(master_frame_with_mapping['raised_amount_usd_in_mil'].between(5,15,inclusive=True))\n",
    "                                                & (master_frame_with_mapping.funding_round_type=='venture')\n",
    "                                                & (master_frame_with_mapping.country_code.isin(country_eng))]\n",
    "master_frame_5_15.shape"
   ]
  },
  {
   "cell_type": "code",
   "execution_count": 45,
   "id": "46d2c572",
   "metadata": {},
   "outputs": [
    {
     "data": {
      "text/html": [
       "<div>\n",
       "<style scoped>\n",
       "    .dataframe tbody tr th:only-of-type {\n",
       "        vertical-align: middle;\n",
       "    }\n",
       "\n",
       "    .dataframe tbody tr th {\n",
       "        vertical-align: top;\n",
       "    }\n",
       "\n",
       "    .dataframe thead th {\n",
       "        text-align: right;\n",
       "    }\n",
       "</style>\n",
       "<table border=\"1\" class=\"dataframe\">\n",
       "  <thead>\n",
       "    <tr style=\"text-align: right;\">\n",
       "      <th></th>\n",
       "      <th>name</th>\n",
       "      <th>homepage_url</th>\n",
       "      <th>category_list</th>\n",
       "      <th>status</th>\n",
       "      <th>country_code</th>\n",
       "      <th>state_code</th>\n",
       "      <th>city</th>\n",
       "      <th>founded_at</th>\n",
       "      <th>company_permalink</th>\n",
       "      <th>funding_round_permalink</th>\n",
       "      <th>funding_round_type</th>\n",
       "      <th>funding_round_code</th>\n",
       "      <th>funded_at</th>\n",
       "      <th>raised_amount_usd_in_mil</th>\n",
       "      <th>primary_sector</th>\n",
       "      <th>main_sector</th>\n",
       "      <th>investment_count</th>\n",
       "      <th>investment_sum</th>\n",
       "    </tr>\n",
       "  </thead>\n",
       "  <tbody>\n",
       "    <tr>\n",
       "      <th>6</th>\n",
       "      <td>All Def Digital</td>\n",
       "      <td>http://alldefdigital.com</td>\n",
       "      <td>Media</td>\n",
       "      <td>operating</td>\n",
       "      <td>USA</td>\n",
       "      <td>CA</td>\n",
       "      <td>Los Angeles</td>\n",
       "      <td>NaN</td>\n",
       "      <td>/organization/all-def-digital</td>\n",
       "      <td>/funding-round/452a2342fe720285c3b92e9bd927d9ba</td>\n",
       "      <td>venture</td>\n",
       "      <td>A</td>\n",
       "      <td>06-08-2014</td>\n",
       "      <td>5.0</td>\n",
       "      <td>media</td>\n",
       "      <td>Entertainment</td>\n",
       "      <td>591</td>\n",
       "      <td>5099.197</td>\n",
       "    </tr>\n",
       "    <tr>\n",
       "      <th>29</th>\n",
       "      <td>ChefsFeed</td>\n",
       "      <td>http://www.chefsfeed.com</td>\n",
       "      <td>Media|Mobile|Restaurants|Technology</td>\n",
       "      <td>operating</td>\n",
       "      <td>USA</td>\n",
       "      <td>CA</td>\n",
       "      <td>San Francisco</td>\n",
       "      <td>01-01-2012</td>\n",
       "      <td>/organization/chefs-feed</td>\n",
       "      <td>/funding-round/adca195749ae9ace84684723fbe75e5b</td>\n",
       "      <td>venture</td>\n",
       "      <td>A</td>\n",
       "      <td>26-02-2015</td>\n",
       "      <td>5.0</td>\n",
       "      <td>media</td>\n",
       "      <td>Entertainment</td>\n",
       "      <td>591</td>\n",
       "      <td>5099.197</td>\n",
       "    </tr>\n",
       "    <tr>\n",
       "      <th>59</th>\n",
       "      <td>The Huffington Post</td>\n",
       "      <td>http://www.huffingtonpost.com</td>\n",
       "      <td>Media|News|Publishing</td>\n",
       "      <td>acquired</td>\n",
       "      <td>USA</td>\n",
       "      <td>NY</td>\n",
       "      <td>New York</td>\n",
       "      <td>09-05-2005</td>\n",
       "      <td>/organization/huffingtonpost</td>\n",
       "      <td>/funding-round/7f05940c4d2dfecb8e50a0e5720e5065</td>\n",
       "      <td>venture</td>\n",
       "      <td>A</td>\n",
       "      <td>01-08-2006</td>\n",
       "      <td>5.0</td>\n",
       "      <td>media</td>\n",
       "      <td>Entertainment</td>\n",
       "      <td>591</td>\n",
       "      <td>5099.197</td>\n",
       "    </tr>\n",
       "    <tr>\n",
       "      <th>60</th>\n",
       "      <td>The Huffington Post</td>\n",
       "      <td>http://www.huffingtonpost.com</td>\n",
       "      <td>Media|News|Publishing</td>\n",
       "      <td>acquired</td>\n",
       "      <td>USA</td>\n",
       "      <td>NY</td>\n",
       "      <td>New York</td>\n",
       "      <td>09-05-2005</td>\n",
       "      <td>/organization/huffingtonpost</td>\n",
       "      <td>/funding-round/9241ae16e08df17ebdc064e49e23035a</td>\n",
       "      <td>venture</td>\n",
       "      <td>B</td>\n",
       "      <td>01-09-2007</td>\n",
       "      <td>5.0</td>\n",
       "      <td>media</td>\n",
       "      <td>Entertainment</td>\n",
       "      <td>591</td>\n",
       "      <td>5099.197</td>\n",
       "    </tr>\n",
       "    <tr>\n",
       "      <th>81</th>\n",
       "      <td>MatchMine</td>\n",
       "      <td>http://matchmine.com</td>\n",
       "      <td>Media|News|Reviews and Recommendations</td>\n",
       "      <td>closed</td>\n",
       "      <td>USA</td>\n",
       "      <td>MA</td>\n",
       "      <td>Needham</td>\n",
       "      <td>01-01-2007</td>\n",
       "      <td>/organization/matchmine</td>\n",
       "      <td>/funding-round/41ac526630da57ad6eb9d02431b17657</td>\n",
       "      <td>venture</td>\n",
       "      <td>A</td>\n",
       "      <td>01-09-2007</td>\n",
       "      <td>10.0</td>\n",
       "      <td>media</td>\n",
       "      <td>Entertainment</td>\n",
       "      <td>591</td>\n",
       "      <td>5099.197</td>\n",
       "    </tr>\n",
       "  </tbody>\n",
       "</table>\n",
       "</div>"
      ],
      "text/plain": [
       "                   name                   homepage_url  \\\n",
       "6       All Def Digital       http://alldefdigital.com   \n",
       "29            ChefsFeed       http://www.chefsfeed.com   \n",
       "59  The Huffington Post  http://www.huffingtonpost.com   \n",
       "60  The Huffington Post  http://www.huffingtonpost.com   \n",
       "81            MatchMine           http://matchmine.com   \n",
       "\n",
       "                             category_list     status country_code state_code  \\\n",
       "6                                    Media  operating          USA         CA   \n",
       "29     Media|Mobile|Restaurants|Technology  operating          USA         CA   \n",
       "59                   Media|News|Publishing   acquired          USA         NY   \n",
       "60                   Media|News|Publishing   acquired          USA         NY   \n",
       "81  Media|News|Reviews and Recommendations     closed          USA         MA   \n",
       "\n",
       "             city  founded_at              company_permalink  \\\n",
       "6     Los Angeles         NaN  /organization/all-def-digital   \n",
       "29  San Francisco  01-01-2012       /organization/chefs-feed   \n",
       "59       New York  09-05-2005   /organization/huffingtonpost   \n",
       "60       New York  09-05-2005   /organization/huffingtonpost   \n",
       "81        Needham  01-01-2007        /organization/matchmine   \n",
       "\n",
       "                            funding_round_permalink funding_round_type  \\\n",
       "6   /funding-round/452a2342fe720285c3b92e9bd927d9ba            venture   \n",
       "29  /funding-round/adca195749ae9ace84684723fbe75e5b            venture   \n",
       "59  /funding-round/7f05940c4d2dfecb8e50a0e5720e5065            venture   \n",
       "60  /funding-round/9241ae16e08df17ebdc064e49e23035a            venture   \n",
       "81  /funding-round/41ac526630da57ad6eb9d02431b17657            venture   \n",
       "\n",
       "   funding_round_code   funded_at  raised_amount_usd_in_mil primary_sector  \\\n",
       "6                   A  06-08-2014                       5.0          media   \n",
       "29                  A  26-02-2015                       5.0          media   \n",
       "59                  A  01-08-2006                       5.0          media   \n",
       "60                  B  01-09-2007                       5.0          media   \n",
       "81                  A  01-09-2007                      10.0          media   \n",
       "\n",
       "      main_sector  investment_count  investment_sum  \n",
       "6   Entertainment               591        5099.197  \n",
       "29  Entertainment               591        5099.197  \n",
       "59  Entertainment               591        5099.197  \n",
       "60  Entertainment               591        5099.197  \n",
       "81  Entertainment               591        5099.197  "
      ]
     },
     "execution_count": 45,
     "metadata": {},
     "output_type": "execute_result"
    }
   ],
   "source": [
    "# creating dataframe D1 for country 1\n",
    "D1=master_frame_5_15[(master_frame_5_15.country_code=='USA')]\n",
    "# The total number (or count) of investments for each main sector in a separate column for D1\n",
    "D1=D1.assign(investment_count=D1.groupby('main_sector')['main_sector'].transform('count'))\n",
    "# The total amount of investment in each main sector in a separate column for D1\n",
    "D1=D1.assign(investment_sum=D1.groupby('main_sector')['raised_amount_usd_in_mil'].transform('sum'))\n",
    "D1.head()"
   ]
  },
  {
   "cell_type": "code",
   "execution_count": 46,
   "id": "d420d390",
   "metadata": {},
   "outputs": [
    {
     "data": {
      "text/html": [
       "<div>\n",
       "<style scoped>\n",
       "    .dataframe tbody tr th:only-of-type {\n",
       "        vertical-align: middle;\n",
       "    }\n",
       "\n",
       "    .dataframe tbody tr th {\n",
       "        vertical-align: top;\n",
       "    }\n",
       "\n",
       "    .dataframe thead th {\n",
       "        text-align: right;\n",
       "    }\n",
       "</style>\n",
       "<table border=\"1\" class=\"dataframe\">\n",
       "  <thead>\n",
       "    <tr style=\"text-align: right;\">\n",
       "      <th></th>\n",
       "      <th>name</th>\n",
       "      <th>homepage_url</th>\n",
       "      <th>category_list</th>\n",
       "      <th>status</th>\n",
       "      <th>country_code</th>\n",
       "      <th>state_code</th>\n",
       "      <th>city</th>\n",
       "      <th>founded_at</th>\n",
       "      <th>company_permalink</th>\n",
       "      <th>funding_round_permalink</th>\n",
       "      <th>funding_round_type</th>\n",
       "      <th>funding_round_code</th>\n",
       "      <th>funded_at</th>\n",
       "      <th>raised_amount_usd_in_mil</th>\n",
       "      <th>primary_sector</th>\n",
       "      <th>main_sector</th>\n",
       "      <th>investment_count</th>\n",
       "      <th>investment_sum</th>\n",
       "    </tr>\n",
       "  </thead>\n",
       "  <tbody>\n",
       "    <tr>\n",
       "      <th>1</th>\n",
       "      <td>90min</td>\n",
       "      <td>http://www.90min.com</td>\n",
       "      <td>Media|News|Publishing|Soccer|Sports</td>\n",
       "      <td>operating</td>\n",
       "      <td>GBR</td>\n",
       "      <td>H9</td>\n",
       "      <td>London</td>\n",
       "      <td>01-01-2011</td>\n",
       "      <td>/organization/90min</td>\n",
       "      <td>/funding-round/21a2cbf6f2fb2a1c2a61e04bf930dfe6</td>\n",
       "      <td>venture</td>\n",
       "      <td>NaN</td>\n",
       "      <td>06-10-2015</td>\n",
       "      <td>15.00</td>\n",
       "      <td>media</td>\n",
       "      <td>Entertainment</td>\n",
       "      <td>55</td>\n",
       "      <td>476.725</td>\n",
       "    </tr>\n",
       "    <tr>\n",
       "      <th>2</th>\n",
       "      <td>90min</td>\n",
       "      <td>http://www.90min.com</td>\n",
       "      <td>Media|News|Publishing|Soccer|Sports</td>\n",
       "      <td>operating</td>\n",
       "      <td>GBR</td>\n",
       "      <td>H9</td>\n",
       "      <td>London</td>\n",
       "      <td>01-01-2011</td>\n",
       "      <td>/organization/90min</td>\n",
       "      <td>/funding-round/bd626ed022f5c66574b1afe234f3c90d</td>\n",
       "      <td>venture</td>\n",
       "      <td>NaN</td>\n",
       "      <td>07-05-2013</td>\n",
       "      <td>5.80</td>\n",
       "      <td>media</td>\n",
       "      <td>Entertainment</td>\n",
       "      <td>55</td>\n",
       "      <td>476.725</td>\n",
       "    </tr>\n",
       "    <tr>\n",
       "      <th>215</th>\n",
       "      <td>Common Interest Communities</td>\n",
       "      <td>http://commoninterestcommunities.com/</td>\n",
       "      <td>Application Platforms|Internet|Software|Startups</td>\n",
       "      <td>operating</td>\n",
       "      <td>GBR</td>\n",
       "      <td>H9</td>\n",
       "      <td>London</td>\n",
       "      <td>NaN</td>\n",
       "      <td>/organization/common-interest-communities</td>\n",
       "      <td>/funding-round/8195587cbd5e51af7514ee92ef4ba6ba</td>\n",
       "      <td>venture</td>\n",
       "      <td>NaN</td>\n",
       "      <td>09-07-2014</td>\n",
       "      <td>10.00</td>\n",
       "      <td>application platforms</td>\n",
       "      <td>News, Search and Messaging</td>\n",
       "      <td>70</td>\n",
       "      <td>598.121</td>\n",
       "    </tr>\n",
       "    <tr>\n",
       "      <th>247</th>\n",
       "      <td>GeoSpock Ltd.</td>\n",
       "      <td>http://www.geospock.com</td>\n",
       "      <td>Application Platforms|Databases|Real Time</td>\n",
       "      <td>operating</td>\n",
       "      <td>GBR</td>\n",
       "      <td>C3</td>\n",
       "      <td>Cambridge</td>\n",
       "      <td>01-01-2013</td>\n",
       "      <td>/organization/geospock-ltd-</td>\n",
       "      <td>/funding-round/cf3fe3b7c86186b9f478d0ea37613f7a</td>\n",
       "      <td>venture</td>\n",
       "      <td>NaN</td>\n",
       "      <td>01-10-2014</td>\n",
       "      <td>5.46</td>\n",
       "      <td>application platforms</td>\n",
       "      <td>News, Search and Messaging</td>\n",
       "      <td>70</td>\n",
       "      <td>598.121</td>\n",
       "    </tr>\n",
       "    <tr>\n",
       "      <th>248</th>\n",
       "      <td>GeoSpock Ltd.</td>\n",
       "      <td>http://www.geospock.com</td>\n",
       "      <td>Application Platforms|Databases|Real Time</td>\n",
       "      <td>operating</td>\n",
       "      <td>GBR</td>\n",
       "      <td>C3</td>\n",
       "      <td>Cambridge</td>\n",
       "      <td>01-01-2013</td>\n",
       "      <td>/organization/geospock-ltd-</td>\n",
       "      <td>/funding-round/e5e4ef4ebae63fc36ef0cd57dd20ff1c</td>\n",
       "      <td>venture</td>\n",
       "      <td>A</td>\n",
       "      <td>05-10-2015</td>\n",
       "      <td>5.40</td>\n",
       "      <td>application platforms</td>\n",
       "      <td>News, Search and Messaging</td>\n",
       "      <td>70</td>\n",
       "      <td>598.121</td>\n",
       "    </tr>\n",
       "  </tbody>\n",
       "</table>\n",
       "</div>"
      ],
      "text/plain": [
       "                            name                           homepage_url  \\\n",
       "1                          90min                   http://www.90min.com   \n",
       "2                          90min                   http://www.90min.com   \n",
       "215  Common Interest Communities  http://commoninterestcommunities.com/   \n",
       "247                GeoSpock Ltd.                http://www.geospock.com   \n",
       "248                GeoSpock Ltd.                http://www.geospock.com   \n",
       "\n",
       "                                        category_list     status country_code  \\\n",
       "1                 Media|News|Publishing|Soccer|Sports  operating          GBR   \n",
       "2                 Media|News|Publishing|Soccer|Sports  operating          GBR   \n",
       "215  Application Platforms|Internet|Software|Startups  operating          GBR   \n",
       "247         Application Platforms|Databases|Real Time  operating          GBR   \n",
       "248         Application Platforms|Databases|Real Time  operating          GBR   \n",
       "\n",
       "    state_code       city  founded_at  \\\n",
       "1           H9     London  01-01-2011   \n",
       "2           H9     London  01-01-2011   \n",
       "215         H9     London         NaN   \n",
       "247         C3  Cambridge  01-01-2013   \n",
       "248         C3  Cambridge  01-01-2013   \n",
       "\n",
       "                             company_permalink  \\\n",
       "1                          /organization/90min   \n",
       "2                          /organization/90min   \n",
       "215  /organization/common-interest-communities   \n",
       "247                /organization/geospock-ltd-   \n",
       "248                /organization/geospock-ltd-   \n",
       "\n",
       "                             funding_round_permalink funding_round_type  \\\n",
       "1    /funding-round/21a2cbf6f2fb2a1c2a61e04bf930dfe6            venture   \n",
       "2    /funding-round/bd626ed022f5c66574b1afe234f3c90d            venture   \n",
       "215  /funding-round/8195587cbd5e51af7514ee92ef4ba6ba            venture   \n",
       "247  /funding-round/cf3fe3b7c86186b9f478d0ea37613f7a            venture   \n",
       "248  /funding-round/e5e4ef4ebae63fc36ef0cd57dd20ff1c            venture   \n",
       "\n",
       "    funding_round_code   funded_at  raised_amount_usd_in_mil  \\\n",
       "1                  NaN  06-10-2015                     15.00   \n",
       "2                  NaN  07-05-2013                      5.80   \n",
       "215                NaN  09-07-2014                     10.00   \n",
       "247                NaN  01-10-2014                      5.46   \n",
       "248                  A  05-10-2015                      5.40   \n",
       "\n",
       "            primary_sector                 main_sector  investment_count  \\\n",
       "1                    media               Entertainment                55   \n",
       "2                    media               Entertainment                55   \n",
       "215  application platforms  News, Search and Messaging                70   \n",
       "247  application platforms  News, Search and Messaging                70   \n",
       "248  application platforms  News, Search and Messaging                70   \n",
       "\n",
       "     investment_sum  \n",
       "1           476.725  \n",
       "2           476.725  \n",
       "215         598.121  \n",
       "247         598.121  \n",
       "248         598.121  "
      ]
     },
     "execution_count": 46,
     "metadata": {},
     "output_type": "execute_result"
    }
   ],
   "source": [
    "# creating dataframe D2\n",
    "D2=master_frame_5_15[(master_frame_5_15.country_code=='GBR')]\n",
    "# The total number (or count) of investments for each main sector in a separate column for D2\n",
    "D2=D2.assign(investment_count=D2.groupby('main_sector')['main_sector'].transform('count'))\n",
    "# The total amount of investment in each main sector in a separate column for D2\n",
    "D2=D2.assign(investment_sum=D2.groupby('main_sector')['raised_amount_usd_in_mil'].transform('sum'))\n",
    "D2.head()"
   ]
  },
  {
   "cell_type": "code",
   "execution_count": 47,
   "id": "49f1cdff",
   "metadata": {},
   "outputs": [
    {
     "data": {
      "text/html": [
       "<div>\n",
       "<style scoped>\n",
       "    .dataframe tbody tr th:only-of-type {\n",
       "        vertical-align: middle;\n",
       "    }\n",
       "\n",
       "    .dataframe tbody tr th {\n",
       "        vertical-align: top;\n",
       "    }\n",
       "\n",
       "    .dataframe thead th {\n",
       "        text-align: right;\n",
       "    }\n",
       "</style>\n",
       "<table border=\"1\" class=\"dataframe\">\n",
       "  <thead>\n",
       "    <tr style=\"text-align: right;\">\n",
       "      <th></th>\n",
       "      <th>name</th>\n",
       "      <th>homepage_url</th>\n",
       "      <th>category_list</th>\n",
       "      <th>status</th>\n",
       "      <th>country_code</th>\n",
       "      <th>state_code</th>\n",
       "      <th>city</th>\n",
       "      <th>founded_at</th>\n",
       "      <th>company_permalink</th>\n",
       "      <th>funding_round_permalink</th>\n",
       "      <th>funding_round_type</th>\n",
       "      <th>funding_round_code</th>\n",
       "      <th>funded_at</th>\n",
       "      <th>raised_amount_usd_in_mil</th>\n",
       "      <th>primary_sector</th>\n",
       "      <th>main_sector</th>\n",
       "      <th>investment_count</th>\n",
       "      <th>investment_sum</th>\n",
       "    </tr>\n",
       "  </thead>\n",
       "  <tbody>\n",
       "    <tr>\n",
       "      <th>0</th>\n",
       "      <td>#fame</td>\n",
       "      <td>http://livfame.com</td>\n",
       "      <td>Media</td>\n",
       "      <td>operating</td>\n",
       "      <td>IND</td>\n",
       "      <td>16</td>\n",
       "      <td>Mumbai</td>\n",
       "      <td>NaN</td>\n",
       "      <td>/organization/-fame</td>\n",
       "      <td>/funding-round/9a01d05418af9f794eebff7ace91f638</td>\n",
       "      <td>venture</td>\n",
       "      <td>B</td>\n",
       "      <td>05-01-2015</td>\n",
       "      <td>10.00</td>\n",
       "      <td>media</td>\n",
       "      <td>Entertainment</td>\n",
       "      <td>33</td>\n",
       "      <td>280.830</td>\n",
       "    </tr>\n",
       "    <tr>\n",
       "      <th>531</th>\n",
       "      <td>Babajob</td>\n",
       "      <td>http://www.babajob.com</td>\n",
       "      <td>Curated Web|Information Technology|Services|St...</td>\n",
       "      <td>operating</td>\n",
       "      <td>IND</td>\n",
       "      <td>19</td>\n",
       "      <td>Bangalore</td>\n",
       "      <td>27-08-2007</td>\n",
       "      <td>/organization/babajob</td>\n",
       "      <td>/funding-round/b72eaac5ea12ac0f50573ac3d6d46b8d</td>\n",
       "      <td>venture</td>\n",
       "      <td>B</td>\n",
       "      <td>28-04-2015</td>\n",
       "      <td>10.00</td>\n",
       "      <td>curated web</td>\n",
       "      <td>News, Search and Messaging</td>\n",
       "      <td>52</td>\n",
       "      <td>433.835</td>\n",
       "    </tr>\n",
       "    <tr>\n",
       "      <th>573</th>\n",
       "      <td>Bharat Matrimony</td>\n",
       "      <td>http://www.bharatmatrimony.com</td>\n",
       "      <td>Curated Web|Match-Making</td>\n",
       "      <td>operating</td>\n",
       "      <td>IND</td>\n",
       "      <td>25</td>\n",
       "      <td>Chennai</td>\n",
       "      <td>12-03-1969</td>\n",
       "      <td>/organization/bharat-matrimony</td>\n",
       "      <td>/funding-round/e37673bc7b0f1dfd3782f8f7abdb9ec8</td>\n",
       "      <td>venture</td>\n",
       "      <td>B</td>\n",
       "      <td>05-02-2008</td>\n",
       "      <td>11.75</td>\n",
       "      <td>curated web</td>\n",
       "      <td>News, Search and Messaging</td>\n",
       "      <td>52</td>\n",
       "      <td>433.835</td>\n",
       "    </tr>\n",
       "    <tr>\n",
       "      <th>620</th>\n",
       "      <td>Bluestone.com</td>\n",
       "      <td>http://bluestone.com</td>\n",
       "      <td>Curated Web</td>\n",
       "      <td>operating</td>\n",
       "      <td>IND</td>\n",
       "      <td>19</td>\n",
       "      <td>Bangalore</td>\n",
       "      <td>01-01-2011</td>\n",
       "      <td>/organization/bluestone-com</td>\n",
       "      <td>/funding-round/452a7fc1f34df2d3dcda4e28234bc671</td>\n",
       "      <td>venture</td>\n",
       "      <td>A</td>\n",
       "      <td>24-01-2012</td>\n",
       "      <td>5.00</td>\n",
       "      <td>curated web</td>\n",
       "      <td>News, Search and Messaging</td>\n",
       "      <td>52</td>\n",
       "      <td>433.835</td>\n",
       "    </tr>\n",
       "    <tr>\n",
       "      <th>622</th>\n",
       "      <td>Bluestone.com</td>\n",
       "      <td>http://bluestone.com</td>\n",
       "      <td>Curated Web</td>\n",
       "      <td>operating</td>\n",
       "      <td>IND</td>\n",
       "      <td>19</td>\n",
       "      <td>Bangalore</td>\n",
       "      <td>01-01-2011</td>\n",
       "      <td>/organization/bluestone-com</td>\n",
       "      <td>/funding-round/f5b252d6442ce231bb01586ca1821f63</td>\n",
       "      <td>venture</td>\n",
       "      <td>B</td>\n",
       "      <td>18-03-2014</td>\n",
       "      <td>10.00</td>\n",
       "      <td>curated web</td>\n",
       "      <td>News, Search and Messaging</td>\n",
       "      <td>52</td>\n",
       "      <td>433.835</td>\n",
       "    </tr>\n",
       "  </tbody>\n",
       "</table>\n",
       "</div>"
      ],
      "text/plain": [
       "                 name                    homepage_url  \\\n",
       "0               #fame              http://livfame.com   \n",
       "531           Babajob          http://www.babajob.com   \n",
       "573  Bharat Matrimony  http://www.bharatmatrimony.com   \n",
       "620     Bluestone.com            http://bluestone.com   \n",
       "622     Bluestone.com            http://bluestone.com   \n",
       "\n",
       "                                         category_list     status  \\\n",
       "0                                                Media  operating   \n",
       "531  Curated Web|Information Technology|Services|St...  operating   \n",
       "573                           Curated Web|Match-Making  operating   \n",
       "620                                        Curated Web  operating   \n",
       "622                                        Curated Web  operating   \n",
       "\n",
       "    country_code state_code       city  founded_at  \\\n",
       "0            IND         16     Mumbai         NaN   \n",
       "531          IND         19  Bangalore  27-08-2007   \n",
       "573          IND         25    Chennai  12-03-1969   \n",
       "620          IND         19  Bangalore  01-01-2011   \n",
       "622          IND         19  Bangalore  01-01-2011   \n",
       "\n",
       "                  company_permalink  \\\n",
       "0               /organization/-fame   \n",
       "531           /organization/babajob   \n",
       "573  /organization/bharat-matrimony   \n",
       "620     /organization/bluestone-com   \n",
       "622     /organization/bluestone-com   \n",
       "\n",
       "                             funding_round_permalink funding_round_type  \\\n",
       "0    /funding-round/9a01d05418af9f794eebff7ace91f638            venture   \n",
       "531  /funding-round/b72eaac5ea12ac0f50573ac3d6d46b8d            venture   \n",
       "573  /funding-round/e37673bc7b0f1dfd3782f8f7abdb9ec8            venture   \n",
       "620  /funding-round/452a7fc1f34df2d3dcda4e28234bc671            venture   \n",
       "622  /funding-round/f5b252d6442ce231bb01586ca1821f63            venture   \n",
       "\n",
       "    funding_round_code   funded_at  raised_amount_usd_in_mil primary_sector  \\\n",
       "0                    B  05-01-2015                     10.00          media   \n",
       "531                  B  28-04-2015                     10.00    curated web   \n",
       "573                  B  05-02-2008                     11.75    curated web   \n",
       "620                  A  24-01-2012                      5.00    curated web   \n",
       "622                  B  18-03-2014                     10.00    curated web   \n",
       "\n",
       "                    main_sector  investment_count  investment_sum  \n",
       "0                 Entertainment                33         280.830  \n",
       "531  News, Search and Messaging                52         433.835  \n",
       "573  News, Search and Messaging                52         433.835  \n",
       "620  News, Search and Messaging                52         433.835  \n",
       "622  News, Search and Messaging                52         433.835  "
      ]
     },
     "execution_count": 47,
     "metadata": {},
     "output_type": "execute_result"
    }
   ],
   "source": [
    "# creating dataframe D3\n",
    "D3=master_frame_5_15[(master_frame_5_15.country_code=='IND')]\n",
    "# The total number (or count) of investments for each main sector in a separate column for D3\n",
    "D3=D3.assign(investment_count=D3.groupby('main_sector')['main_sector'].transform('count'))\n",
    "# The total amount of investment in each main sector in a separate column for D3\n",
    "D3=D3.assign(investment_sum=D3.groupby('main_sector')['raised_amount_usd_in_mil'].transform('sum'))\n",
    "D3.head()"
   ]
  },
  {
   "cell_type": "markdown",
   "id": "670eefc9",
   "metadata": {},
   "source": [
    "1.Total number of investments(counts) for country1, country2, country3"
   ]
  },
  {
   "cell_type": "code",
   "execution_count": 233,
   "id": "64cece1e",
   "metadata": {},
   "outputs": [
    {
     "data": {
      "text/plain": [
       "12083"
      ]
     },
     "execution_count": 233,
     "metadata": {},
     "output_type": "execute_result"
    }
   ],
   "source": [
    "# for country1\n",
    "D1.investment_count.unique().sum()"
   ]
  },
  {
   "cell_type": "code",
   "execution_count": 49,
   "id": "944e3608",
   "metadata": {},
   "outputs": [
    {
     "data": {
      "text/plain": [
       "593"
      ]
     },
     "execution_count": 49,
     "metadata": {},
     "output_type": "execute_result"
    }
   ],
   "source": [
    "# for country2\n",
    "D2.investment_count.unique().sum()"
   ]
  },
  {
   "cell_type": "code",
   "execution_count": 50,
   "id": "22281409",
   "metadata": {},
   "outputs": [
    {
     "data": {
      "text/plain": [
       "327"
      ]
     },
     "execution_count": 50,
     "metadata": {},
     "output_type": "execute_result"
    }
   ],
   "source": [
    "# for country3\n",
    "D3.investment_count.unique().sum()"
   ]
  },
  {
   "cell_type": "markdown",
   "id": "85129b79",
   "metadata": {},
   "source": [
    "2.Total amount of investment (USD) for country1, country2, country3"
   ]
  },
  {
   "cell_type": "code",
   "execution_count": 51,
   "id": "b00814e8",
   "metadata": {},
   "outputs": [
    {
     "data": {
      "text/plain": [
       "107923.24"
      ]
     },
     "execution_count": 51,
     "metadata": {},
     "output_type": "execute_result"
    }
   ],
   "source": [
    "# for country1 (in million)\n",
    "round(D1.investment_sum.unique().sum(),2)"
   ]
  },
  {
   "cell_type": "code",
   "execution_count": 52,
   "id": "b8cf70a5",
   "metadata": {},
   "outputs": [
    {
     "data": {
      "text/plain": [
       "5175.78"
      ]
     },
     "execution_count": 52,
     "metadata": {},
     "output_type": "execute_result"
    }
   ],
   "source": [
    "# for country2 (in million)\n",
    "round(D2.investment_sum.unique().sum(),2)"
   ]
  },
  {
   "cell_type": "code",
   "execution_count": 234,
   "id": "5f17a111",
   "metadata": {},
   "outputs": [
    {
     "data": {
      "text/plain": [
       "2934.54"
      ]
     },
     "execution_count": 234,
     "metadata": {},
     "output_type": "execute_result"
    }
   ],
   "source": [
    "# for country3 (in million)\n",
    "round(D3.investment_sum.unique().sum(),2)"
   ]
  },
  {
   "cell_type": "markdown",
   "id": "751a56fa",
   "metadata": {},
   "source": [
    "3.Top 3 sector (based on count of investments) for country1, country2, country3 4.Second-best sector (based on count of investments) 5.Third-best sector (based on count of investments)"
   ]
  },
  {
   "cell_type": "code",
   "execution_count": 54,
   "id": "9b518c4f",
   "metadata": {},
   "outputs": [
    {
     "data": {
      "text/plain": [
       "main_sector\n",
       "Others                                     2956\n",
       "Social, Finance, Analytics, Advertising    2715\n",
       "Cleantech / Semiconductors                 2353\n",
       "Name: investment_count, dtype: int64"
      ]
     },
     "execution_count": 54,
     "metadata": {},
     "output_type": "execute_result"
    }
   ],
   "source": [
    "# for country1 Top 3 sector and count of investments \n",
    "D1.groupby('main_sector')['investment_count'].count().sort_values(ascending=False).nlargest(3)"
   ]
  },
  {
   "cell_type": "code",
   "execution_count": 55,
   "id": "306a9652",
   "metadata": {},
   "outputs": [
    {
     "name": "stdout",
     "output_type": "stream",
     "text": [
      "D1: 1st_top_sector = Others\n",
      "D1: 2nd_top_sector = Social, Finance, Analytics, Advertising\n",
      "D1: 3rd_top_sector = Cleantech / Semiconductors\n"
     ]
    }
   ],
   "source": [
    "# for country1 Top 3 sector\n",
    "D1_1st_top_sector=D1.groupby('main_sector')['investment_count'].count().sort_values(ascending=False).nlargest(3).index[0]\n",
    "D1_2nd_top_sector=D1.groupby('main_sector')['investment_count'].count().sort_values(ascending=False).nlargest(3).index[1]\n",
    "D1_3rd_top_sector=D1.groupby('main_sector')['investment_count'].count().sort_values(ascending=False).nlargest(3).index[2]\n",
    "print('D1: 1st_top_sector = '+D1_1st_top_sector)\n",
    "print('D1: 2nd_top_sector = '+D1_2nd_top_sector)\n",
    "print('D1: 3rd_top_sector = '+D1_3rd_top_sector)"
   ]
  },
  {
   "cell_type": "code",
   "execution_count": 235,
   "id": "68e61c7e",
   "metadata": {},
   "outputs": [
    {
     "data": {
      "text/plain": [
       "main_sector\n",
       "Others                                     146\n",
       "Social, Finance, Analytics, Advertising    130\n",
       "Cleantech / Semiconductors                 120\n",
       "Name: investment_count, dtype: int64"
      ]
     },
     "execution_count": 235,
     "metadata": {},
     "output_type": "execute_result"
    }
   ],
   "source": [
    "# for country2 Top 3 sector and count of investments\n",
    "D2.groupby('main_sector')['investment_count'].count().sort_values(ascending=False).head(3).nlargest(3)"
   ]
  },
  {
   "cell_type": "code",
   "execution_count": 57,
   "id": "71d70fef",
   "metadata": {},
   "outputs": [
    {
     "name": "stdout",
     "output_type": "stream",
     "text": [
      "D2: 1st_top_sector = Others\n",
      "D2: 2nd_top_sector = Social, Finance, Analytics, Advertising\n",
      "D2: 3rd_top_sector = Cleantech / Semiconductors\n"
     ]
    }
   ],
   "source": [
    "# for country2 Top 3 sector\n",
    "D2_1st_top_sector=D2.groupby('main_sector')['investment_count'].count().sort_values(ascending=False).nlargest(3).index[0]\n",
    "D2_2nd_top_sector=D2.groupby('main_sector')['investment_count'].count().sort_values(ascending=False).nlargest(3).index[1]\n",
    "D2_3rd_top_sector=D2.groupby('main_sector')['investment_count'].count().sort_values(ascending=False).nlargest(3).index[2]\n",
    "print('D2: 1st_top_sector = '+D2_1st_top_sector)\n",
    "print('D2: 2nd_top_sector = '+D2_2nd_top_sector)\n",
    "print('D2: 3rd_top_sector = '+D2_3rd_top_sector)"
   ]
  },
  {
   "cell_type": "code",
   "execution_count": 58,
   "id": "78eec8c6",
   "metadata": {},
   "outputs": [
    {
     "data": {
      "text/plain": [
       "main_sector\n",
       "Others                                     110\n",
       "Social, Finance, Analytics, Advertising     60\n",
       "News, Search and Messaging                  52\n",
       "Name: investment_count, dtype: int64"
      ]
     },
     "execution_count": 58,
     "metadata": {},
     "output_type": "execute_result"
    }
   ],
   "source": [
    "# for country3 Top 3 sector and count of investments\n",
    "D3.groupby('main_sector')['investment_count'].count().sort_values(ascending=False).head(3).nlargest(3)"
   ]
  },
  {
   "cell_type": "code",
   "execution_count": 59,
   "id": "2ce711c5",
   "metadata": {},
   "outputs": [
    {
     "name": "stdout",
     "output_type": "stream",
     "text": [
      "D3: 1st_top_sector = Others\n",
      "D3: 2nd_top_sector = Social, Finance, Analytics, Advertising\n",
      "D3: 3rd_top_sector = News, Search and Messaging\n"
     ]
    }
   ],
   "source": [
    "# for country3 Top 3 sector\n",
    "D3_1st_top_sector=D3.groupby('main_sector')['investment_count'].count().sort_values(ascending=False).nlargest(3).index[0]\n",
    "D3_2nd_top_sector=D3.groupby('main_sector')['investment_count'].count().sort_values(ascending=False).nlargest(3).index[1]\n",
    "D3_3rd_top_sector=D3.groupby('main_sector')['investment_count'].count().sort_values(ascending=False).nlargest(3).index[2]\n",
    "print('D3: 1st_top_sector = '+D3_1st_top_sector)\n",
    "print('D3: 2nd_top_sector = '+D3_2nd_top_sector)\n",
    "print('D3: 3rd_top_sector = '+D3_3rd_top_sector)"
   ]
  },
  {
   "cell_type": "markdown",
   "id": "7cd7db00",
   "metadata": {},
   "source": [
    "6.Number of investments in top sector for country1, country2, country3"
   ]
  },
  {
   "cell_type": "code",
   "execution_count": 60,
   "id": "afdce1e6",
   "metadata": {},
   "outputs": [
    {
     "data": {
      "text/plain": [
       "2956"
      ]
     },
     "execution_count": 60,
     "metadata": {},
     "output_type": "execute_result"
    }
   ],
   "source": [
    "# for country 1\n",
    "D1.groupby('main_sector')['investment_count'].count().sort_values(ascending=False).head(1)[D1_1st_top_sector]"
   ]
  },
  {
   "cell_type": "code",
   "execution_count": 61,
   "id": "54cb2847",
   "metadata": {},
   "outputs": [
    {
     "data": {
      "text/plain": [
       "146"
      ]
     },
     "execution_count": 61,
     "metadata": {},
     "output_type": "execute_result"
    }
   ],
   "source": [
    "# for country 2\n",
    "D2.groupby('main_sector')['investment_count'].count().sort_values(ascending=False).head(1)[D2_1st_top_sector]"
   ]
  },
  {
   "cell_type": "code",
   "execution_count": 236,
   "id": "1587e1b8",
   "metadata": {},
   "outputs": [
    {
     "data": {
      "text/plain": [
       "110"
      ]
     },
     "execution_count": 236,
     "metadata": {},
     "output_type": "execute_result"
    }
   ],
   "source": [
    "# for country 3\n",
    "D3.groupby('main_sector')['investment_count'].count().sort_values(ascending=False).head(1)[D3_1st_top_sector]"
   ]
  },
  {
   "cell_type": "markdown",
   "id": "8f197515",
   "metadata": {},
   "source": [
    "7.Number of investments in second sector for country1, country2, country3"
   ]
  },
  {
   "cell_type": "code",
   "execution_count": 63,
   "id": "d015a06b",
   "metadata": {},
   "outputs": [
    {
     "data": {
      "text/plain": [
       "2715"
      ]
     },
     "execution_count": 63,
     "metadata": {},
     "output_type": "execute_result"
    }
   ],
   "source": [
    "# for country 1\n",
    "D1.groupby('main_sector')['investment_count'].count().sort_values(ascending=False).head(2)[D1_2nd_top_sector]"
   ]
  },
  {
   "cell_type": "code",
   "execution_count": 64,
   "id": "19a0994c",
   "metadata": {},
   "outputs": [
    {
     "data": {
      "text/plain": [
       "130"
      ]
     },
     "execution_count": 64,
     "metadata": {},
     "output_type": "execute_result"
    }
   ],
   "source": [
    "# for country 2\n",
    "D2.groupby('main_sector')['investment_count'].count().sort_values(ascending=False).head(2)[D2_2nd_top_sector]"
   ]
  },
  {
   "cell_type": "code",
   "execution_count": 65,
   "id": "91cbc043",
   "metadata": {},
   "outputs": [
    {
     "data": {
      "text/plain": [
       "60"
      ]
     },
     "execution_count": 65,
     "metadata": {},
     "output_type": "execute_result"
    }
   ],
   "source": [
    "# for country 3\n",
    "D3.groupby('main_sector')['investment_count'].count().sort_values(ascending=False).head(2)[D3_2nd_top_sector]"
   ]
  },
  {
   "cell_type": "markdown",
   "id": "444f6f0d",
   "metadata": {},
   "source": [
    "8.Number of investments in third sector for country1, country2, country3"
   ]
  },
  {
   "cell_type": "code",
   "execution_count": 66,
   "id": "9d7c085d",
   "metadata": {},
   "outputs": [
    {
     "data": {
      "text/plain": [
       "2353"
      ]
     },
     "execution_count": 66,
     "metadata": {},
     "output_type": "execute_result"
    }
   ],
   "source": [
    "# for country 1\n",
    "D1.groupby('main_sector')['investment_count'].count().sort_values(ascending=False).head(3)[D1_3rd_top_sector]"
   ]
  },
  {
   "cell_type": "code",
   "execution_count": 67,
   "id": "b43eb9c6",
   "metadata": {},
   "outputs": [
    {
     "data": {
      "text/plain": [
       "120"
      ]
     },
     "execution_count": 67,
     "metadata": {},
     "output_type": "execute_result"
    }
   ],
   "source": [
    "# for country 2\n",
    "D2.groupby('main_sector')['investment_count'].count().sort_values(ascending=False).head(3)[D2_3rd_top_sector]"
   ]
  },
  {
   "cell_type": "code",
   "execution_count": 68,
   "id": "869e55e5",
   "metadata": {},
   "outputs": [
    {
     "data": {
      "text/plain": [
       "52"
      ]
     },
     "execution_count": 68,
     "metadata": {},
     "output_type": "execute_result"
    }
   ],
   "source": [
    "# for country 3\n",
    "D3.groupby('main_sector')['investment_count'].count().sort_values(ascending=False).head(3)[D3_3rd_top_sector]"
   ]
  },
  {
   "cell_type": "markdown",
   "id": "c301d6db",
   "metadata": {},
   "source": [
    "9. For point 3 (top sector count-wise), which company received the highest investment? for country1, country2, country3"
   ]
  },
  {
   "cell_type": "code",
   "execution_count": 69,
   "id": "d754b108",
   "metadata": {},
   "outputs": [
    {
     "data": {
      "text/plain": [
       "'1stdibs'"
      ]
     },
     "execution_count": 69,
     "metadata": {},
     "output_type": "execute_result"
    }
   ],
   "source": [
    "# for country 1\n",
    "D1[D1.main_sector==D1_1st_top_sector].sort_values(by='raised_amount_usd_in_mil',ascending=False).head(1)['name'].values[0]"
   ]
  },
  {
   "cell_type": "code",
   "execution_count": 70,
   "id": "ac14e85c",
   "metadata": {},
   "outputs": [
    {
     "data": {
      "text/plain": [
       "'Tribold'"
      ]
     },
     "execution_count": 70,
     "metadata": {},
     "output_type": "execute_result"
    }
   ],
   "source": [
    "# for country 2\n",
    "D2[D2.main_sector==D2_1st_top_sector].sort_values(by='raised_amount_usd_in_mil',ascending=False).head(1)['name'].values[0]"
   ]
  },
  {
   "cell_type": "code",
   "execution_count": 237,
   "id": "6a6c31f7",
   "metadata": {},
   "outputs": [
    {
     "data": {
      "text/plain": [
       "'GirnarSoft'"
      ]
     },
     "execution_count": 237,
     "metadata": {},
     "output_type": "execute_result"
    }
   ],
   "source": [
    "# for country 3\n",
    "D3[D3.main_sector==D3_1st_top_sector].sort_values(by='raised_amount_usd_in_mil',ascending=False).head(1)['name'].values[0]"
   ]
  },
  {
   "cell_type": "markdown",
   "id": "6502151e",
   "metadata": {},
   "source": [
    "10. For point 4 (second best sector count-wise), which company received the highest investment?"
   ]
  },
  {
   "cell_type": "code",
   "execution_count": 72,
   "id": "107a8c9f",
   "metadata": {},
   "outputs": [
    {
     "data": {
      "text/plain": [
       "'Segment'"
      ]
     },
     "execution_count": 72,
     "metadata": {},
     "output_type": "execute_result"
    }
   ],
   "source": [
    "# for country 1\n",
    "D1[D1.main_sector==D1_2nd_top_sector].sort_values(by='raised_amount_usd_in_mil',ascending=False).head(2)['name'].values[1]"
   ]
  },
  {
   "cell_type": "code",
   "execution_count": 73,
   "id": "0bc92f16",
   "metadata": {},
   "outputs": [
    {
     "data": {
      "text/plain": [
       "'myThings'"
      ]
     },
     "execution_count": 73,
     "metadata": {},
     "output_type": "execute_result"
    }
   ],
   "source": [
    "# for country 2\n",
    "D2[D2.main_sector==D2_2nd_top_sector].sort_values(by='raised_amount_usd_in_mil',ascending=False).head(2)['name'].values[1]"
   ]
  },
  {
   "cell_type": "code",
   "execution_count": 74,
   "id": "e59f0f26",
   "metadata": {},
   "outputs": [
    {
     "data": {
      "text/plain": [
       "'Manthan Systems'"
      ]
     },
     "execution_count": 74,
     "metadata": {},
     "output_type": "execute_result"
    }
   ],
   "source": [
    "# for country 3\n",
    "D3[D3.main_sector==D3_2nd_top_sector].sort_values(by='raised_amount_usd_in_mil',ascending=False).head(2)['name'].values[1]"
   ]
  },
  {
   "cell_type": "markdown",
   "id": "09fde316",
   "metadata": {},
   "source": [
    "# Checkpoint 6: Plots"
   ]
  },
  {
   "cell_type": "markdown",
   "id": "f2130c06",
   "metadata": {},
   "source": [
    "1.A plot showing the fraction of total investments (globally) in venture, seed, and private equity, and the average amount of investment in each funding type. This chart should make it clear that a certain funding type (FT) is best suited for Spark Funds. (below)"
   ]
  },
  {
   "cell_type": "code",
   "execution_count": 75,
   "id": "1dc69d96",
   "metadata": {},
   "outputs": [
    {
     "data": {
      "image/png": "[encoded data removed]",
      "text/plain": [
       "<Figure size 432x288 with 1 Axes>"
      ]
     },
     "metadata": {
      "needs_background": "light"
     },
     "output_type": "display_data"
    }
   ],
   "source": [
    "import matplotlib.pyplot as plt\n",
    "import seaborn as sns\n",
    "#plt.figure(figsize=(6,5), dpi=80, facecolor='w',edgecolor='k')\n",
    "df=master_frame.loc[(master_frame.funding_round_type.isin( ['venture','seed','private_equity']))]\n",
    "barplot=sns.barplot(x='funding_round_type',y='raised_amount_usd_in_mil',data=df)\n",
    "barplot.set(xlabel='funding round type', ylabel='total investment (in millions)')\n",
    "plt.axhline(5,color='red')\n",
    "plt.axhline(15,color='red')\n",
    "barplot.set_title('total investments (globally) Vs avg amount of investment in each funding type')\n",
    "plt.show()"
   ]
  },
  {
   "cell_type": "markdown",
   "id": "d0bf715a",
   "metadata": {},
   "source": [
    "2.create a plot showing the top 9 countries against the total amount of investments of funding type FT. This should make the top 3 countries (Country 1, Country 2, and Country 3) very clear. (below)"
   ]
  },
  {
   "cell_type": "code",
   "execution_count": 76,
   "id": "2bd315e3",
   "metadata": {},
   "outputs": [
    {
     "data": {
      "image/png": "[encoded data removed]",
      "text/plain": [
       "<Figure size 800x400 with 1 Axes>"
      ]
     },
     "metadata": {},
     "output_type": "display_data"
    }
   ],
   "source": [
    "# plot showing top 9 countries against the total amount of investments of funding type FT\n",
    "plt.figure(figsize=(10,5), dpi=80, facecolor='w',edgecolor='k')\n",
    "plot_top9=sns.barplot(x='country_code',y='raised_amount_usd_in_mil', data=top9)\n",
    "plot_top9.set(xlabel='country codes', ylabel='raised investment (in millions)')\n",
    "plot_top9.set_title('top 9 countries against total amount of investments of funding type = venture')\n",
    "plt.show()"
   ]
  },
  {
   "cell_type": "markdown",
   "id": "053d688e",
   "metadata": {},
   "source": [
    "3.A plot showing the number of investments in the top 3 sectors of the top 3 countries on one chart (for the chosen investment type FT)."
   ]
  },
  {
   "cell_type": "code",
   "execution_count": 238,
   "id": "45d990b7",
   "metadata": {},
   "outputs": [
    {
     "data": {
      "image/png": "[encoded data removed]",
      "text/plain": [
       "<Figure size 800x400 with 1 Axes>"
      ]
     },
     "metadata": {},
     "output_type": "display_data"
    }
   ],
   "source": [
    "# collecting details of top 3 counties with their respective top 3 sectors and corresponding investment count in one data frame.\n",
    "D1_top3_investment=D1.groupby(['main_sector','country_code'],as_index=False)['investment_count'].count().sort_values(by='investment_count', ascending=False).head(3)\n",
    "D2_top3_investment=D2.groupby(['main_sector','country_code'],as_index=False)['investment_count'].count().sort_values(by='investment_count', ascending=False).head(3)\n",
    "D3_top3_investment=D3.groupby(['main_sector','country_code'],as_index=False)['investment_count'].count().sort_values(by='investment_count', ascending=False).head(3)\n",
    "# concatinating\n",
    "top3_country_investment=pandas.concat([D1_top3_investment,D2_top3_investment,D3_top3_investment],axis=0)\n",
    "\n",
    "# showing the top3 countries and their corresponding top 3 sectors and their investments count in bar plot\n",
    "plt.figure(figsize=(10,5), dpi=80, facecolor='w',edgecolor='k')\n",
    "top3_country_investment_plt=sns.barplot(x='country_code',y='investment_count', hue='main_sector', data=top3_country_investment)\n",
    "top3_country_investment_plt.set(xlabel='country codes', ylabel='number of investments')\n",
    "top3_country_investment_plt.set_title('top 3 countries investments in top 3 sectors')\n",
    "plt.show()"
   ]
  }
 ],
 "metadata": {
  "kernelspec": {
   "display_name": "Python 3",
   "language": "python",
   "name": "python3"
  },
  "language_info": {
   "codemirror_mode": {
    "name": "ipython",
    "version": 3
   },
   "file_extension": ".py",
   "mimetype": "text/x-python",
   "name": "python",
   "nbconvert_exporter": "python",
   "pygments_lexer": "ipython3",
   "version": "3.8.8"
  }
 },
 "nbformat": 4,
 "nbformat_minor": 5
}
